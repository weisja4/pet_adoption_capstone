{
 "cells": [
  {
   "cell_type": "markdown",
   "metadata": {},
   "source": [
    "# Predicting Pet Adoption Speeds"
   ]
  },
  {
   "cell_type": "markdown",
   "metadata": {},
   "source": [
    "## Table of Contents"
   ]
  },
  {
   "cell_type": "markdown",
   "metadata": {},
   "source": [
    "- [Splitting Data](#Splitting-Data)\n",
    "- [Problem Statement](#Problem-Statement)\n",
    "- [Executive Summary](#Executive-Summary)  \n",
    "- [Data Cleaning](#Clean-up)\n",
    "- [Exploritory Data Analysis](#Exploritory-Data-Analysis)\n",
    "- [Preprocessing](#Preprocessing)\n",
    "- [Modeling](#Modeling)\n",
    "- [K-Nearest Neighbors](#K-Nearest-Neighbors)\n",
    "- [Decision Tree](#Decision-Tree)\n",
    "- [Bootstrap and Bagging](#Bootstrap-and-Bagging)\n",
    "- [Random Forest](#Random-Forest)\n",
    "- [Extra Trees](#Extra-Trees)\n",
    "- [Neural Network](#Neural-Network)\n",
    "- [Model Selection](#Model-Selection)\n",
    "- [Model Evaluation](#Model-Evaluation)\n",
    "- [Pickling](#Pickling)\n",
    "- [Conclusions and Recommendations](#Conclusions-and-Recommendations)"
   ]
  },
  {
   "cell_type": "markdown",
   "metadata": {},
   "source": [
    "## Data Source"
   ]
  },
  {
   "cell_type": "markdown",
   "metadata": {},
   "source": [
    "https://www.kaggle.com/c/petfinder-adoption-prediction/data"
   ]
  },
  {
   "cell_type": "markdown",
   "metadata": {},
   "source": [
    "## Splitting Data\n",
    "To get our data in the appropriate form, please being with the \"Splitting Data\" notebook. We will keep them seperate to avoid any risk of mixing out holdout data with our training and test sets."
   ]
  },
  {
   "cell_type": "markdown",
   "metadata": {},
   "source": [
    "## Problem Statement\n",
    "\n",
    "Around the world millions of dogs and cats sit in shelters, waiting for their forever-homes, which many will never find. Over the course of history, our pets become reliant on humans for food, shelter, and companionship. As a result, dogs and cats need humans to adopt them from shelters and bring them into their homes. The demand for shelter animals varies widely based on the characteristics of each animal, as well as the website post for their adoption. \n",
    "\n",
    "We will seek to use data from PetFinder (Malaysia) describing each pet, as well as the metadata from their Petfinder posts to predict the speed at which pets get adopted. Specifically, we will make a classifier model that will predict the speed at which the pet is adopted. We will judge our success on the accuracy of our predictions. Additionally, we will set aside a portion of our data as a validation set to confirm our model’s ability to estimate new entries.\n",
    "\n",
    "By predicting the speed at which pets get adopted, we hope to gain insight into actionable measures we can take to increase the rate and overall number of adoptions. "
   ]
  },
  {
   "cell_type": "markdown",
   "metadata": {},
   "source": [
    "## Executive Summary"
   ]
  },
  {
   "cell_type": "markdown",
   "metadata": {},
   "source": [
    "Our data contain detailed listings on approximately 15,000 cats and dogs that were listed on the PetFinder website in Malaysia, including the speed category of their adoption. From the \"Data Source\" listed above we used the set labled 'Train' for our analysis. The initial data was read into the \"Splitting Data\" notebook and divided into a training and test set as well as a holdout set, which was segmented out of the data to be revisited later for validation. \n",
    "\n",
    "Once we have our data read-in, we start with clean up and preliminary analysis. From the outset, we see the data is very clean, but has information we do not want to include, like \"resucer_id\", \"state\" (in Malaysia) etc. that needed to be dropped. The largest change we made was to exclude listings of more than 3 pets as these were often entire litters of puppies/kittens rather than individual pets or bonded pairs/triples.\n",
    "\n",
    "With the cleaned and split data in hand, scaled the data (standard scalar) and began our catagorical modeling. \n",
    "\n",
    "After categorical modeling we did regression analysis to attempt to estimate the actual time pets are in the shelter (rather than a speed category). These results were not very stong and not instructive. Though the excercize was worthwhile, there is not much predictive ability in the regression models. \n",
    "\n",
    "It is important to note that many of the categories that appear numerical are actually categorical, like breed and color. Those features were indluded using one-hot-encoding for modeling. "
   ]
  },
  {
   "cell_type": "code",
   "execution_count": 474,
   "metadata": {},
   "outputs": [],
   "source": [
    "import pandas as pd\n",
    "import numpy as np\n",
    "import seaborn as sns\n",
    "import matplotlib.pyplot as plt\n",
    "import pickle\n",
    "import json\n",
    "\n",
    "from sklearn.neighbors import KNeighborsClassifier\n",
    "\n",
    "from sklearn import metrics as skm\n",
    "from sklearn.metrics import silhouette_score, confusion_matrix, classification_report\n",
    "from sklearn.tree import DecisionTreeClassifier, plot_tree\n",
    "from sklearn.model_selection import train_test_split, GridSearchCV, cross_val_score\n",
    "from sklearn.pipeline import Pipeline\n",
    "from sklearn.inspection import permutation_importance\n",
    "from scipy import stats\n",
    "\n",
    "from treeinterpreter import treeinterpreter as ti\n",
    "\n",
    "from sklearn.linear_model import LogisticRegression, LogisticRegressionCV \n",
    "from sklearn.tree import DecisionTreeClassifier, plot_tree\n",
    "from sklearn.ensemble import BaggingClassifier, RandomForestClassifier, ExtraTreesClassifier, VotingClassifier, AdaBoostClassifier, GradientBoostingClassifier\n",
    "from sklearn.preprocessing import StandardScaler\n",
    "from sklearn.dummy import DummyClassifier\n",
    "from sklearn.cluster import KMeans, DBSCAN\n",
    "\n",
    "from keras.models import Sequential\n",
    "from keras.layers import Dense, Dropout\n",
    "from keras.utils import to_categorical\n",
    "from keras.callbacks import EarlyStopping\n",
    "from keras.wrappers.scikit_learn import KerasClassifier\n",
    "\n",
    "rdst = 815"
   ]
  },
  {
   "cell_type": "code",
   "execution_count": 412,
   "metadata": {},
   "outputs": [],
   "source": [
    "pets = pd.read_csv('../../data/pets.csv')"
   ]
  },
  {
   "cell_type": "code",
   "execution_count": 413,
   "metadata": {},
   "outputs": [
    {
     "data": {
      "text/plain": [
       "(11244, 24)"
      ]
     },
     "execution_count": 413,
     "metadata": {},
     "output_type": "execute_result"
    }
   ],
   "source": [
    "pets.shape # Starting shape should be 11,244 x 24"
   ]
  },
  {
   "cell_type": "code",
   "execution_count": 414,
   "metadata": {},
   "outputs": [
    {
     "data": {
      "text/plain": [
       "Index(['Type', 'Name', 'Age', 'Breed1', 'Breed2', 'Gender', 'Color1', 'Color2',\n",
       "       'Color3', 'MaturitySize', 'FurLength', 'Vaccinated', 'Dewormed',\n",
       "       'Sterilized', 'Health', 'Quantity', 'Fee', 'State', 'RescuerID',\n",
       "       'VideoAmt', 'Description', 'PetID', 'PhotoAmt', 'AdoptionSpeed'],\n",
       "      dtype='object')"
      ]
     },
     "execution_count": 414,
     "metadata": {},
     "output_type": "execute_result"
    }
   ],
   "source": [
    "pets.keys()"
   ]
  },
  {
   "cell_type": "markdown",
   "metadata": {},
   "source": [
    "Most keys are self expalinitory, and are in the Data Dictionary in the Readme file. "
   ]
  },
  {
   "cell_type": "code",
   "execution_count": 415,
   "metadata": {},
   "outputs": [],
   "source": [
    "pets.columns = map(str.lower, pets.columns)"
   ]
  },
  {
   "cell_type": "markdown",
   "metadata": {},
   "source": [
    "We have converted all of the feature labels to lowercase"
   ]
  },
  {
   "cell_type": "markdown",
   "metadata": {},
   "source": [
    "# Clean-up"
   ]
  },
  {
   "cell_type": "markdown",
   "metadata": {},
   "source": [
    "#### For the initial analysis, we will not look at information related to the images other than if a picture or video is present. We will remove (for now):    \n",
    "  \n",
    "- Description: We can use this later for NLP  \n",
    "- PetID: Doesn't tell us anyting \n",
    "- State: We will explore whether or not this should be included. These are Malaysian states, so the universal applicability is unlikely.   \n",
    "- The name category is likely to be important, and will be considered when we get to NLP, but will be excluded from the initial analysis.\n",
    "- Rescuer ID\n",
    "  \n",
    "- Quantity: Unfortunately many of the listings are for entire litters of pups and kittens, given the fundamental difference in trying to adopt out entire litters compared to individual pets, we will exclude full litters. However, there are scenarios where animals need to be adopted together. These are called 'bonded pairs' and we will not exclude them.   \n",
    "    \n",
    "      \n",
    "      \n",
    "#### Other Considerations:\n",
    "- Some of the categories appear numerical, but are infact categorical, and not ordinal. Those categories are:\n",
    "- Breed1\n",
    "- Breed2\n",
    "- Color1\n",
    "- Color2\n",
    "- Color3\n",
    "- State\n",
    "\n",
    "\n"
   ]
  },
  {
   "cell_type": "code",
   "execution_count": 416,
   "metadata": {},
   "outputs": [
    {
     "data": {
      "text/plain": [
       "type               0\n",
       "name             927\n",
       "age                0\n",
       "breed1             0\n",
       "breed2             0\n",
       "gender             0\n",
       "color1             0\n",
       "color2             0\n",
       "color3             0\n",
       "maturitysize       0\n",
       "furlength          0\n",
       "vaccinated         0\n",
       "dewormed           0\n",
       "sterilized         0\n",
       "health             0\n",
       "quantity           0\n",
       "fee                0\n",
       "state              0\n",
       "rescuerid          0\n",
       "videoamt           0\n",
       "description        9\n",
       "petid              0\n",
       "photoamt           0\n",
       "adoptionspeed      0\n",
       "dtype: int64"
      ]
     },
     "execution_count": 416,
     "metadata": {},
     "output_type": "execute_result"
    }
   ],
   "source": [
    "pets.isnull().sum()"
   ]
  },
  {
   "cell_type": "code",
   "execution_count": 417,
   "metadata": {},
   "outputs": [],
   "source": [
    "pets.fillna(0, inplace = True)"
   ]
  },
  {
   "cell_type": "markdown",
   "metadata": {},
   "source": [
    "We know that a null in the 'name' column means the pet has no name. we can replace this with zero"
   ]
  },
  {
   "cell_type": "code",
   "execution_count": 418,
   "metadata": {},
   "outputs": [
    {
     "data": {
      "text/plain": [
       "0"
      ]
     },
     "execution_count": 418,
     "metadata": {},
     "output_type": "execute_result"
    }
   ],
   "source": [
    "pets.isnull().sum().sum()"
   ]
  },
  {
   "cell_type": "code",
   "execution_count": 419,
   "metadata": {},
   "outputs": [
    {
     "data": {
      "text/plain": [
       "1     8612\n",
       "2     1065\n",
       "3      572\n",
       "4      413\n",
       "5      255\n",
       "6      152\n",
       "7       59\n",
       "8       44\n",
       "9       23\n",
       "10      15\n",
       "11       8\n",
       "20       8\n",
       "12       5\n",
       "17       3\n",
       "15       3\n",
       "13       2\n",
       "14       2\n",
       "16       2\n",
       "18       1\n",
       "Name: quantity, dtype: int64"
      ]
     },
     "execution_count": 419,
     "metadata": {},
     "output_type": "execute_result"
    }
   ],
   "source": [
    "pets['quantity'].value_counts()"
   ]
  },
  {
   "cell_type": "code",
   "execution_count": 420,
   "metadata": {},
   "outputs": [
    {
     "data": {
      "text/plain": [
       "type               int64\n",
       "name              object\n",
       "age                int64\n",
       "breed1             int64\n",
       "breed2             int64\n",
       "gender             int64\n",
       "color1             int64\n",
       "color2             int64\n",
       "color3             int64\n",
       "maturitysize       int64\n",
       "furlength          int64\n",
       "vaccinated         int64\n",
       "dewormed           int64\n",
       "sterilized         int64\n",
       "health             int64\n",
       "quantity           int64\n",
       "fee                int64\n",
       "state              int64\n",
       "rescuerid         object\n",
       "videoamt           int64\n",
       "description       object\n",
       "petid             object\n",
       "photoamt         float64\n",
       "adoptionspeed      int64\n",
       "dtype: object"
      ]
     },
     "execution_count": 420,
     "metadata": {},
     "output_type": "execute_result"
    }
   ],
   "source": [
    "pets.dtypes"
   ]
  },
  {
   "cell_type": "markdown",
   "metadata": {},
   "source": [
    "# Exploritory Data Analysis (EDA)"
   ]
  },
  {
   "cell_type": "code",
   "execution_count": 421,
   "metadata": {},
   "outputs": [
    {
     "data": {
      "text/plain": [
       "1     8612\n",
       "2     1065\n",
       "3      572\n",
       "4      413\n",
       "5      255\n",
       "6      152\n",
       "7       59\n",
       "8       44\n",
       "9       23\n",
       "10      15\n",
       "11       8\n",
       "20       8\n",
       "12       5\n",
       "17       3\n",
       "15       3\n",
       "13       2\n",
       "14       2\n",
       "16       2\n",
       "18       1\n",
       "Name: quantity, dtype: int64"
      ]
     },
     "execution_count": 421,
     "metadata": {},
     "output_type": "execute_result"
    }
   ],
   "source": [
    "quant = pets['quantity'].value_counts()\n",
    "quant\n"
   ]
  },
  {
   "cell_type": "code",
   "execution_count": 422,
   "metadata": {},
   "outputs": [
    {
     "data": {
      "image/png": "[encoded data removed]",
      "text/plain": [
       "<Figure size 1296x576 with 1 Axes>"
      ]
     },
     "metadata": {
      "needs_background": "light"
     },
     "output_type": "display_data"
    }
   ],
   "source": [
    "plt.figure(figsize = (18, 8))\n",
    "sns.barplot(quant.index, quant, palette= 'colorblind' )\n",
    "\n",
    "plt.title('Pet Quantities by Listing', size = 24)\n",
    "plt.xlabel('Number to be Adopted (single listing)', size = 18)\n",
    "plt.ylabel('Number of Listings', size = 18);\n"
   ]
  },
  {
   "cell_type": "code",
   "execution_count": 423,
   "metadata": {},
   "outputs": [],
   "source": [
    "quant_m = pets[pets['quantity'] >6]\n",
    "quant_m = quant_m['quantity'].value_counts()\n"
   ]
  },
  {
   "cell_type": "code",
   "execution_count": 424,
   "metadata": {
    "scrolled": true
   },
   "outputs": [
    {
     "data": {
      "image/png": "[encoded data removed]",
      "text/plain": [
       "<Figure size 576x288 with 1 Axes>"
      ]
     },
     "metadata": {
      "needs_background": "light"
     },
     "output_type": "display_data"
    }
   ],
   "source": [
    "plt.figure(figsize = (8,4))\n",
    "sns.barplot(quant_m.index, quant_m, palette = 'colorblind')\n",
    "# plt.title('Listing Quantities for Groups Larger than Six', size = 14)\n",
    "plt.xlabel('Number to be Adopted (single listing)', size = 14)\n",
    "plt.ylabel('Number of Listings', size = 14);"
   ]
  },
  {
   "cell_type": "markdown",
   "metadata": {},
   "source": [
    "There are many listings of large grouppings or litters.\n",
    "\n",
    "Because there are fundamental differences in how we would seek to adopt out a single animal (or bonded pair/triple), we will drop all listings that contain greater than 3 animals."
   ]
  },
  {
   "cell_type": "code",
   "execution_count": 425,
   "metadata": {},
   "outputs": [],
   "source": [
    "pets.drop(pets[pets['quantity'] > 3].index, inplace = True) "
   ]
  },
  {
   "cell_type": "markdown",
   "metadata": {},
   "source": [
    "Dropped listings with more than 3 pets. We are just looking at individual adoptions, pairs, etc"
   ]
  },
  {
   "cell_type": "code",
   "execution_count": 426,
   "metadata": {},
   "outputs": [
    {
     "data": {
      "text/plain": [
       "(10249, 24)"
      ]
     },
     "execution_count": 426,
     "metadata": {},
     "output_type": "execute_result"
    }
   ],
   "source": [
    "pets.shape"
   ]
  },
  {
   "cell_type": "code",
   "execution_count": 427,
   "metadata": {},
   "outputs": [
    {
     "data": {
      "text/plain": [
       "(10249, 24)"
      ]
     },
     "execution_count": 427,
     "metadata": {},
     "output_type": "execute_result"
    }
   ],
   "source": [
    "pets.shape"
   ]
  },
  {
   "cell_type": "code",
   "execution_count": 428,
   "metadata": {
    "scrolled": true
   },
   "outputs": [
    {
     "data": {
      "text/html": [
       "<div>\n",
       "<style scoped>\n",
       "    .dataframe tbody tr th:only-of-type {\n",
       "        vertical-align: middle;\n",
       "    }\n",
       "\n",
       "    .dataframe tbody tr th {\n",
       "        vertical-align: top;\n",
       "    }\n",
       "\n",
       "    .dataframe thead th {\n",
       "        text-align: right;\n",
       "    }\n",
       "</style>\n",
       "<table border=\"1\" class=\"dataframe\">\n",
       "  <thead>\n",
       "    <tr style=\"text-align: right;\">\n",
       "      <th></th>\n",
       "      <th>type</th>\n",
       "      <th>age</th>\n",
       "      <th>breed1</th>\n",
       "      <th>breed2</th>\n",
       "      <th>gender</th>\n",
       "      <th>color1</th>\n",
       "      <th>color2</th>\n",
       "      <th>color3</th>\n",
       "      <th>maturitysize</th>\n",
       "      <th>furlength</th>\n",
       "      <th>vaccinated</th>\n",
       "      <th>dewormed</th>\n",
       "      <th>sterilized</th>\n",
       "      <th>health</th>\n",
       "      <th>quantity</th>\n",
       "      <th>fee</th>\n",
       "      <th>state</th>\n",
       "      <th>videoamt</th>\n",
       "      <th>photoamt</th>\n",
       "      <th>adoptionspeed</th>\n",
       "    </tr>\n",
       "  </thead>\n",
       "  <tbody>\n",
       "    <tr>\n",
       "      <th>count</th>\n",
       "      <td>10249.000000</td>\n",
       "      <td>10249.000000</td>\n",
       "      <td>10249.000000</td>\n",
       "      <td>10249.000000</td>\n",
       "      <td>10249.000000</td>\n",
       "      <td>10249.000000</td>\n",
       "      <td>10249.000000</td>\n",
       "      <td>10249.000000</td>\n",
       "      <td>10249.000000</td>\n",
       "      <td>10249.000000</td>\n",
       "      <td>10249.000000</td>\n",
       "      <td>10249.000000</td>\n",
       "      <td>10249.000000</td>\n",
       "      <td>10249.000000</td>\n",
       "      <td>10249.000000</td>\n",
       "      <td>10249.000000</td>\n",
       "      <td>10249.000000</td>\n",
       "      <td>10249.000000</td>\n",
       "      <td>10249.000000</td>\n",
       "      <td>10249.000000</td>\n",
       "    </tr>\n",
       "    <tr>\n",
       "      <th>mean</th>\n",
       "      <td>1.454191</td>\n",
       "      <td>11.098936</td>\n",
       "      <td>263.931701</td>\n",
       "      <td>72.932384</td>\n",
       "      <td>1.689043</td>\n",
       "      <td>2.276222</td>\n",
       "      <td>3.208215</td>\n",
       "      <td>1.685823</td>\n",
       "      <td>1.868670</td>\n",
       "      <td>1.475168</td>\n",
       "      <td>1.702215</td>\n",
       "      <td>1.527076</td>\n",
       "      <td>1.895112</td>\n",
       "      <td>1.038150</td>\n",
       "      <td>1.215533</td>\n",
       "      <td>22.405601</td>\n",
       "      <td>41346.459557</td>\n",
       "      <td>0.054444</td>\n",
       "      <td>3.759977</td>\n",
       "      <td>2.501512</td>\n",
       "    </tr>\n",
       "    <tr>\n",
       "      <th>std</th>\n",
       "      <td>0.497921</td>\n",
       "      <td>18.887640</td>\n",
       "      <td>61.323677</td>\n",
       "      <td>122.408760</td>\n",
       "      <td>0.620680</td>\n",
       "      <td>1.761076</td>\n",
       "      <td>2.791193</td>\n",
       "      <td>2.882766</td>\n",
       "      <td>0.550462</td>\n",
       "      <td>0.607166</td>\n",
       "      <td>0.674271</td>\n",
       "      <td>0.694206</td>\n",
       "      <td>0.572108</td>\n",
       "      <td>0.203905</td>\n",
       "      <td>0.529836</td>\n",
       "      <td>76.106974</td>\n",
       "      <td>32.694275</td>\n",
       "      <td>0.332007</td>\n",
       "      <td>3.315706</td>\n",
       "      <td>1.175481</td>\n",
       "    </tr>\n",
       "    <tr>\n",
       "      <th>min</th>\n",
       "      <td>1.000000</td>\n",
       "      <td>0.000000</td>\n",
       "      <td>0.000000</td>\n",
       "      <td>0.000000</td>\n",
       "      <td>1.000000</td>\n",
       "      <td>1.000000</td>\n",
       "      <td>0.000000</td>\n",
       "      <td>0.000000</td>\n",
       "      <td>1.000000</td>\n",
       "      <td>1.000000</td>\n",
       "      <td>1.000000</td>\n",
       "      <td>1.000000</td>\n",
       "      <td>1.000000</td>\n",
       "      <td>1.000000</td>\n",
       "      <td>1.000000</td>\n",
       "      <td>0.000000</td>\n",
       "      <td>41324.000000</td>\n",
       "      <td>0.000000</td>\n",
       "      <td>0.000000</td>\n",
       "      <td>0.000000</td>\n",
       "    </tr>\n",
       "    <tr>\n",
       "      <th>25%</th>\n",
       "      <td>1.000000</td>\n",
       "      <td>2.000000</td>\n",
       "      <td>265.000000</td>\n",
       "      <td>0.000000</td>\n",
       "      <td>1.000000</td>\n",
       "      <td>1.000000</td>\n",
       "      <td>0.000000</td>\n",
       "      <td>0.000000</td>\n",
       "      <td>2.000000</td>\n",
       "      <td>1.000000</td>\n",
       "      <td>1.000000</td>\n",
       "      <td>1.000000</td>\n",
       "      <td>2.000000</td>\n",
       "      <td>1.000000</td>\n",
       "      <td>1.000000</td>\n",
       "      <td>0.000000</td>\n",
       "      <td>41326.000000</td>\n",
       "      <td>0.000000</td>\n",
       "      <td>2.000000</td>\n",
       "      <td>2.000000</td>\n",
       "    </tr>\n",
       "    <tr>\n",
       "      <th>50%</th>\n",
       "      <td>1.000000</td>\n",
       "      <td>3.000000</td>\n",
       "      <td>266.000000</td>\n",
       "      <td>0.000000</td>\n",
       "      <td>2.000000</td>\n",
       "      <td>2.000000</td>\n",
       "      <td>2.000000</td>\n",
       "      <td>0.000000</td>\n",
       "      <td>2.000000</td>\n",
       "      <td>1.000000</td>\n",
       "      <td>2.000000</td>\n",
       "      <td>1.000000</td>\n",
       "      <td>2.000000</td>\n",
       "      <td>1.000000</td>\n",
       "      <td>1.000000</td>\n",
       "      <td>0.000000</td>\n",
       "      <td>41326.000000</td>\n",
       "      <td>0.000000</td>\n",
       "      <td>3.000000</td>\n",
       "      <td>2.000000</td>\n",
       "    </tr>\n",
       "    <tr>\n",
       "      <th>75%</th>\n",
       "      <td>2.000000</td>\n",
       "      <td>12.000000</td>\n",
       "      <td>307.000000</td>\n",
       "      <td>152.000000</td>\n",
       "      <td>2.000000</td>\n",
       "      <td>3.000000</td>\n",
       "      <td>6.000000</td>\n",
       "      <td>4.000000</td>\n",
       "      <td>2.000000</td>\n",
       "      <td>2.000000</td>\n",
       "      <td>2.000000</td>\n",
       "      <td>2.000000</td>\n",
       "      <td>2.000000</td>\n",
       "      <td>1.000000</td>\n",
       "      <td>1.000000</td>\n",
       "      <td>0.000000</td>\n",
       "      <td>41401.000000</td>\n",
       "      <td>0.000000</td>\n",
       "      <td>5.000000</td>\n",
       "      <td>4.000000</td>\n",
       "    </tr>\n",
       "    <tr>\n",
       "      <th>max</th>\n",
       "      <td>2.000000</td>\n",
       "      <td>255.000000</td>\n",
       "      <td>307.000000</td>\n",
       "      <td>307.000000</td>\n",
       "      <td>3.000000</td>\n",
       "      <td>7.000000</td>\n",
       "      <td>7.000000</td>\n",
       "      <td>7.000000</td>\n",
       "      <td>4.000000</td>\n",
       "      <td>3.000000</td>\n",
       "      <td>3.000000</td>\n",
       "      <td>3.000000</td>\n",
       "      <td>3.000000</td>\n",
       "      <td>3.000000</td>\n",
       "      <td>3.000000</td>\n",
       "      <td>1000.000000</td>\n",
       "      <td>41415.000000</td>\n",
       "      <td>8.000000</td>\n",
       "      <td>30.000000</td>\n",
       "      <td>4.000000</td>\n",
       "    </tr>\n",
       "  </tbody>\n",
       "</table>\n",
       "</div>"
      ],
      "text/plain": [
       "               type           age        breed1        breed2        gender  \\\n",
       "count  10249.000000  10249.000000  10249.000000  10249.000000  10249.000000   \n",
       "mean       1.454191     11.098936    263.931701     72.932384      1.689043   \n",
       "std        0.497921     18.887640     61.323677    122.408760      0.620680   \n",
       "min        1.000000      0.000000      0.000000      0.000000      1.000000   \n",
       "25%        1.000000      2.000000    265.000000      0.000000      1.000000   \n",
       "50%        1.000000      3.000000    266.000000      0.000000      2.000000   \n",
       "75%        2.000000     12.000000    307.000000    152.000000      2.000000   \n",
       "max        2.000000    255.000000    307.000000    307.000000      3.000000   \n",
       "\n",
       "             color1        color2        color3  maturitysize     furlength  \\\n",
       "count  10249.000000  10249.000000  10249.000000  10249.000000  10249.000000   \n",
       "mean       2.276222      3.208215      1.685823      1.868670      1.475168   \n",
       "std        1.761076      2.791193      2.882766      0.550462      0.607166   \n",
       "min        1.000000      0.000000      0.000000      1.000000      1.000000   \n",
       "25%        1.000000      0.000000      0.000000      2.000000      1.000000   \n",
       "50%        2.000000      2.000000      0.000000      2.000000      1.000000   \n",
       "75%        3.000000      6.000000      4.000000      2.000000      2.000000   \n",
       "max        7.000000      7.000000      7.000000      4.000000      3.000000   \n",
       "\n",
       "         vaccinated      dewormed    sterilized        health      quantity  \\\n",
       "count  10249.000000  10249.000000  10249.000000  10249.000000  10249.000000   \n",
       "mean       1.702215      1.527076      1.895112      1.038150      1.215533   \n",
       "std        0.674271      0.694206      0.572108      0.203905      0.529836   \n",
       "min        1.000000      1.000000      1.000000      1.000000      1.000000   \n",
       "25%        1.000000      1.000000      2.000000      1.000000      1.000000   \n",
       "50%        2.000000      1.000000      2.000000      1.000000      1.000000   \n",
       "75%        2.000000      2.000000      2.000000      1.000000      1.000000   \n",
       "max        3.000000      3.000000      3.000000      3.000000      3.000000   \n",
       "\n",
       "                fee         state      videoamt      photoamt  adoptionspeed  \n",
       "count  10249.000000  10249.000000  10249.000000  10249.000000   10249.000000  \n",
       "mean      22.405601  41346.459557      0.054444      3.759977       2.501512  \n",
       "std       76.106974     32.694275      0.332007      3.315706       1.175481  \n",
       "min        0.000000  41324.000000      0.000000      0.000000       0.000000  \n",
       "25%        0.000000  41326.000000      0.000000      2.000000       2.000000  \n",
       "50%        0.000000  41326.000000      0.000000      3.000000       2.000000  \n",
       "75%        0.000000  41401.000000      0.000000      5.000000       4.000000  \n",
       "max     1000.000000  41415.000000      8.000000     30.000000       4.000000  "
      ]
     },
     "execution_count": 428,
     "metadata": {},
     "output_type": "execute_result"
    }
   ],
   "source": [
    "pets.describe()"
   ]
  },
  {
   "cell_type": "markdown",
   "metadata": {},
   "source": [
    "__Lets Explore Age__\n"
   ]
  },
  {
   "cell_type": "code",
   "execution_count": 429,
   "metadata": {},
   "outputs": [
    {
     "data": {
      "text/plain": [
       "2      2349\n",
       "1      1383\n",
       "3      1333\n",
       "4       814\n",
       "12      681\n",
       "       ... \n",
       "135       1\n",
       "238       1\n",
       "102       1\n",
       "86        1\n",
       "255       1\n",
       "Name: age, Length: 98, dtype: int64"
      ]
     },
     "execution_count": 429,
     "metadata": {},
     "output_type": "execute_result"
    }
   ],
   "source": [
    "pets['age'].value_counts()"
   ]
  },
  {
   "cell_type": "markdown",
   "metadata": {},
   "source": [
    "The ages skew toward young animals, with a mean age of just under 12 months. It is unclear why this is the case, but given that it is typically harder to find homes for older pets, we expect this to be an important factor in the analysis.\n"
   ]
  },
  {
   "cell_type": "code",
   "execution_count": 430,
   "metadata": {},
   "outputs": [
    {
     "data": {
      "text/plain": [
       "161"
      ]
     },
     "execution_count": 430,
     "metadata": {},
     "output_type": "execute_result"
    }
   ],
   "source": [
    "pets['breed1'].value_counts().value_counts().sum()"
   ]
  },
  {
   "cell_type": "markdown",
   "metadata": {},
   "source": [
    "There are 161 breeds present in our data set."
   ]
  },
  {
   "cell_type": "code",
   "execution_count": 431,
   "metadata": {},
   "outputs": [],
   "source": [
    "speed = pets.groupby(by = 'adoptionspeed').count()"
   ]
  },
  {
   "cell_type": "code",
   "execution_count": 432,
   "metadata": {},
   "outputs": [
    {
     "data": {
      "text/plain": [
       "4    0.273783\n",
       "2    0.269295\n",
       "3    0.218948\n",
       "1    0.210947\n",
       "0    0.027027\n",
       "Name: adoptionspeed, dtype: float64"
      ]
     },
     "execution_count": 432,
     "metadata": {},
     "output_type": "execute_result"
    }
   ],
   "source": [
    "pets['adoptionspeed'].value_counts(normalize = True)"
   ]
  },
  {
   "cell_type": "markdown",
   "metadata": {},
   "source": [
    "These are the percentages by Adoption Speed"
   ]
  },
  {
   "cell_type": "code",
   "execution_count": 433,
   "metadata": {},
   "outputs": [
    {
     "data": {
      "text/plain": [
       "''"
      ]
     },
     "execution_count": 433,
     "metadata": {},
     "output_type": "execute_result"
    },
    {
     "data": {
      "image/png": "[encoded data removed]",
      "text/plain": [
       "<Figure size 576x432 with 1 Axes>"
      ]
     },
     "metadata": {
      "needs_background": "light"
     },
     "output_type": "display_data"
    }
   ],
   "source": [
    "plt.figure(figsize = (8,6))\n",
    "sns.barplot(speed.index, speed['type'] , palette = 'Spectral' )\n",
    "plt.xlabel(\"Adoption Speed\", size = 14)\n",
    "plt.title(\"Pet Adoption Speed\", size = 14)\n",
    "plt.ylabel(\"Count\", size = 14)\n",
    "\n",
    ";"
   ]
  },
  {
   "cell_type": "markdown",
   "metadata": {},
   "source": [
    "Most of the pets in the data stay in the shelter for more than 100 days or were not adopted\n",
    "- 0 = Adopted the day it was listed\n",
    "- 1 = Adopted in the first week\n",
    "- 2 = Adopted after the first week, but in the first month\n",
    "- 3 = Adopted between 31 and 90 days \n",
    "- 4 = No adoptions within 100 days (none between 90-100)"
   ]
  },
  {
   "cell_type": "code",
   "execution_count": 434,
   "metadata": {},
   "outputs": [
    {
     "data": {
      "text/plain": [
       "1    0.545809\n",
       "2    0.454191\n",
       "Name: type, dtype: float64"
      ]
     },
     "execution_count": 434,
     "metadata": {},
     "output_type": "execute_result"
    }
   ],
   "source": [
    "pets['type'].value_counts(normalize = True)"
   ]
  },
  {
   "cell_type": "code",
   "execution_count": 435,
   "metadata": {
    "scrolled": false
   },
   "outputs": [
    {
     "data": {
      "text/plain": [
       "''"
      ]
     },
     "execution_count": 435,
     "metadata": {},
     "output_type": "execute_result"
    },
    {
     "data": {
      "image/png": "[encoded data removed]",
      "text/plain": [
       "<Figure size 576x432 with 1 Axes>"
      ]
     },
     "metadata": {
      "needs_background": "light"
     },
     "output_type": "display_data"
    }
   ],
   "source": [
    "plt.figure(figsize = (8,6))\n",
    "lbins = [1,2]\n",
    "pets['type'].value_counts().plot(kind = 'bar')\n",
    "\n",
    "plt.title(\"Distribution of Dogs (1) vs Cats (2)\")\n",
    "plt.xticks()\n",
    ";"
   ]
  },
  {
   "cell_type": "markdown",
   "metadata": {},
   "source": [
    "The breakdown of Dogs vs Cats is pretty close with 54.58% dogs and 45.42% cats"
   ]
  },
  {
   "cell_type": "code",
   "execution_count": 436,
   "metadata": {},
   "outputs": [
    {
     "data": {
      "text/plain": [
       "307    3997\n",
       "266    2467\n",
       "265     845\n",
       "299     222\n",
       "264     205\n",
       "       ... \n",
       "123       1\n",
       "7         1\n",
       "294       1\n",
       "145       1\n",
       "298       1\n",
       "Name: breed1, Length: 161, dtype: int64"
      ]
     },
     "execution_count": 436,
     "metadata": {},
     "output_type": "execute_result"
    }
   ],
   "source": [
    "pets['breed1'].value_counts()"
   ]
  },
  {
   "cell_type": "code",
   "execution_count": 437,
   "metadata": {},
   "outputs": [],
   "source": [
    "speed_corr = pets.corr()[['adoptionspeed']]\n",
    "speed_corr = speed_corr.sort_values(by = 'adoptionspeed', ascending = False)"
   ]
  },
  {
   "cell_type": "code",
   "execution_count": 438,
   "metadata": {},
   "outputs": [
    {
     "data": {
      "image/png": "[encoded data removed]",
      "text/plain": [
       "<Figure size 720x720 with 2 Axes>"
      ]
     },
     "metadata": {
      "needs_background": "light"
     },
     "output_type": "display_data"
    }
   ],
   "source": [
    "plt.figure(figsize = (10,10))\n",
    "sns.heatmap(speed_corr, cmap = 'hot', annot= True);"
   ]
  },
  {
   "cell_type": "markdown",
   "metadata": {},
   "source": [
    "Age, breed and size are unsurprisingly at the top of the list for correlation to adoption speed. Being sterilized and animal type also factor in and are negatively correlated "
   ]
  },
  {
   "cell_type": "code",
   "execution_count": 439,
   "metadata": {},
   "outputs": [
    {
     "data": {
      "text/plain": [
       "2    7036\n",
       "1    2291\n",
       "3     899\n",
       "4      23\n",
       "Name: maturitysize, dtype: int64"
      ]
     },
     "execution_count": 439,
     "metadata": {},
     "output_type": "execute_result"
    }
   ],
   "source": [
    "pets['maturitysize'].value_counts() # they are numerical and ordinal based on size, so we'll keep it 'as is'"
   ]
  },
  {
   "cell_type": "code",
   "execution_count": 440,
   "metadata": {},
   "outputs": [
    {
     "data": {
      "text/plain": [
       "count    10249.000000\n",
       "mean        22.405601\n",
       "std         76.106974\n",
       "min          0.000000\n",
       "25%          0.000000\n",
       "50%          0.000000\n",
       "75%          0.000000\n",
       "max       1000.000000\n",
       "Name: fee, dtype: float64"
      ]
     },
     "execution_count": 440,
     "metadata": {},
     "output_type": "execute_result"
    }
   ],
   "source": [
    "pets['fee'].describe()  # $1,000 adoption fee seems oddly high"
   ]
  },
  {
   "cell_type": "code",
   "execution_count": 441,
   "metadata": {},
   "outputs": [
    {
     "data": {
      "text/plain": [
       "(32,)"
      ]
     },
     "execution_count": 441,
     "metadata": {},
     "output_type": "execute_result"
    }
   ],
   "source": [
    "pets[pets['fee'] > 500]['adoptionspeed'].shape"
   ]
  },
  {
   "cell_type": "code",
   "execution_count": 442,
   "metadata": {},
   "outputs": [
    {
     "data": {
      "text/html": [
       "<div>\n",
       "<style scoped>\n",
       "    .dataframe tbody tr th:only-of-type {\n",
       "        vertical-align: middle;\n",
       "    }\n",
       "\n",
       "    .dataframe tbody tr th {\n",
       "        vertical-align: top;\n",
       "    }\n",
       "\n",
       "    .dataframe thead th {\n",
       "        text-align: right;\n",
       "    }\n",
       "</style>\n",
       "<table border=\"1\" class=\"dataframe\">\n",
       "  <thead>\n",
       "    <tr style=\"text-align: right;\">\n",
       "      <th></th>\n",
       "      <th>type</th>\n",
       "      <th>name</th>\n",
       "      <th>age</th>\n",
       "      <th>breed1</th>\n",
       "      <th>breed2</th>\n",
       "      <th>gender</th>\n",
       "      <th>color1</th>\n",
       "      <th>color2</th>\n",
       "      <th>color3</th>\n",
       "      <th>maturitysize</th>\n",
       "      <th>...</th>\n",
       "      <th>health</th>\n",
       "      <th>quantity</th>\n",
       "      <th>fee</th>\n",
       "      <th>state</th>\n",
       "      <th>rescuerid</th>\n",
       "      <th>videoamt</th>\n",
       "      <th>description</th>\n",
       "      <th>petid</th>\n",
       "      <th>photoamt</th>\n",
       "      <th>adoptionspeed</th>\n",
       "    </tr>\n",
       "  </thead>\n",
       "  <tbody>\n",
       "    <tr>\n",
       "      <th>1280</th>\n",
       "      <td>2</td>\n",
       "      <td>0</td>\n",
       "      <td>2</td>\n",
       "      <td>285</td>\n",
       "      <td>264</td>\n",
       "      <td>2</td>\n",
       "      <td>4</td>\n",
       "      <td>0</td>\n",
       "      <td>0</td>\n",
       "      <td>2</td>\n",
       "      <td>...</td>\n",
       "      <td>1</td>\n",
       "      <td>1</td>\n",
       "      <td>750</td>\n",
       "      <td>41326</td>\n",
       "      <td>c004c5b717affa9822d9ec1ad3eb00fd</td>\n",
       "      <td>0</td>\n",
       "      <td>Ready for let go female cute Hyper aktif n hea...</td>\n",
       "      <td>d473d632a</td>\n",
       "      <td>3.0</td>\n",
       "      <td>2</td>\n",
       "    </tr>\n",
       "    <tr>\n",
       "      <th>1301</th>\n",
       "      <td>2</td>\n",
       "      <td>Jacky@bulat</td>\n",
       "      <td>2</td>\n",
       "      <td>285</td>\n",
       "      <td>0</td>\n",
       "      <td>1</td>\n",
       "      <td>1</td>\n",
       "      <td>7</td>\n",
       "      <td>0</td>\n",
       "      <td>2</td>\n",
       "      <td>...</td>\n",
       "      <td>1</td>\n",
       "      <td>1</td>\n",
       "      <td>600</td>\n",
       "      <td>41326</td>\n",
       "      <td>c004c5b717affa9822d9ec1ad3eb00fd</td>\n",
       "      <td>0</td>\n",
       "      <td>berminat boleh call saya,kitten sngat sihat da...</td>\n",
       "      <td>08428917f</td>\n",
       "      <td>5.0</td>\n",
       "      <td>2</td>\n",
       "    </tr>\n",
       "    <tr>\n",
       "      <th>1572</th>\n",
       "      <td>2</td>\n",
       "      <td>Ricky</td>\n",
       "      <td>3</td>\n",
       "      <td>264</td>\n",
       "      <td>285</td>\n",
       "      <td>1</td>\n",
       "      <td>4</td>\n",
       "      <td>0</td>\n",
       "      <td>0</td>\n",
       "      <td>2</td>\n",
       "      <td>...</td>\n",
       "      <td>1</td>\n",
       "      <td>1</td>\n",
       "      <td>700</td>\n",
       "      <td>41326</td>\n",
       "      <td>c004c5b717affa9822d9ec1ad3eb00fd</td>\n",
       "      <td>0</td>\n",
       "      <td>Ready for new home our prince Red Tabby Really...</td>\n",
       "      <td>ff867121e</td>\n",
       "      <td>2.0</td>\n",
       "      <td>2</td>\n",
       "    </tr>\n",
       "    <tr>\n",
       "      <th>2080</th>\n",
       "      <td>2</td>\n",
       "      <td>Luna</td>\n",
       "      <td>2</td>\n",
       "      <td>285</td>\n",
       "      <td>0</td>\n",
       "      <td>2</td>\n",
       "      <td>3</td>\n",
       "      <td>0</td>\n",
       "      <td>0</td>\n",
       "      <td>2</td>\n",
       "      <td>...</td>\n",
       "      <td>1</td>\n",
       "      <td>1</td>\n",
       "      <td>700</td>\n",
       "      <td>41326</td>\n",
       "      <td>c004c5b717affa9822d9ec1ad3eb00fd</td>\n",
       "      <td>0</td>\n",
       "      <td>For those are interested,pls call me female se...</td>\n",
       "      <td>09d9212f5</td>\n",
       "      <td>5.0</td>\n",
       "      <td>1</td>\n",
       "    </tr>\n",
       "    <tr>\n",
       "      <th>2087</th>\n",
       "      <td>1</td>\n",
       "      <td>Adpoted</td>\n",
       "      <td>24</td>\n",
       "      <td>205</td>\n",
       "      <td>0</td>\n",
       "      <td>2</td>\n",
       "      <td>1</td>\n",
       "      <td>2</td>\n",
       "      <td>7</td>\n",
       "      <td>1</td>\n",
       "      <td>...</td>\n",
       "      <td>1</td>\n",
       "      <td>1</td>\n",
       "      <td>1000</td>\n",
       "      <td>41401</td>\n",
       "      <td>67f04f1dc1f81ff09e134fb47a053b10</td>\n",
       "      <td>0</td>\n",
       "      <td>adpoted</td>\n",
       "      <td>aebf47483</td>\n",
       "      <td>2.0</td>\n",
       "      <td>0</td>\n",
       "    </tr>\n",
       "  </tbody>\n",
       "</table>\n",
       "<p>5 rows × 24 columns</p>\n",
       "</div>"
      ],
      "text/plain": [
       "      type         name  age  breed1  breed2  gender  color1  color2  color3  \\\n",
       "1280     2            0    2     285     264       2       4       0       0   \n",
       "1301     2  Jacky@bulat    2     285       0       1       1       7       0   \n",
       "1572     2        Ricky    3     264     285       1       4       0       0   \n",
       "2080     2         Luna    2     285       0       2       3       0       0   \n",
       "2087     1      Adpoted   24     205       0       2       1       2       7   \n",
       "\n",
       "      maturitysize  ...  health  quantity   fee  state  \\\n",
       "1280             2  ...       1         1   750  41326   \n",
       "1301             2  ...       1         1   600  41326   \n",
       "1572             2  ...       1         1   700  41326   \n",
       "2080             2  ...       1         1   700  41326   \n",
       "2087             1  ...       1         1  1000  41401   \n",
       "\n",
       "                             rescuerid  videoamt  \\\n",
       "1280  c004c5b717affa9822d9ec1ad3eb00fd         0   \n",
       "1301  c004c5b717affa9822d9ec1ad3eb00fd         0   \n",
       "1572  c004c5b717affa9822d9ec1ad3eb00fd         0   \n",
       "2080  c004c5b717affa9822d9ec1ad3eb00fd         0   \n",
       "2087  67f04f1dc1f81ff09e134fb47a053b10         0   \n",
       "\n",
       "                                            description      petid photoamt  \\\n",
       "1280  Ready for let go female cute Hyper aktif n hea...  d473d632a      3.0   \n",
       "1301  berminat boleh call saya,kitten sngat sihat da...  08428917f      5.0   \n",
       "1572  Ready for new home our prince Red Tabby Really...  ff867121e      2.0   \n",
       "2080  For those are interested,pls call me female se...  09d9212f5      5.0   \n",
       "2087                                            adpoted  aebf47483      2.0   \n",
       "\n",
       "      adoptionspeed  \n",
       "1280              2  \n",
       "1301              2  \n",
       "1572              2  \n",
       "2080              1  \n",
       "2087              0  \n",
       "\n",
       "[5 rows x 24 columns]"
      ]
     },
     "execution_count": 442,
     "metadata": {},
     "output_type": "execute_result"
    }
   ],
   "source": [
    "pets[(pets['fee'] > 500) & (pets['adoptionspeed']<3)].head()"
   ]
  },
  {
   "cell_type": "markdown",
   "metadata": {},
   "source": [
    "I'm surprised that the pets with high fees (>500) tend to be adopted rather quickly. Probably higher fees charged for much sought after breeds and pets."
   ]
  },
  {
   "cell_type": "markdown",
   "metadata": {},
   "source": [
    "Of 33 pets with a fee > 500 (don't know the unit, remember this is Malaysia) 19 were adopted in the first week"
   ]
  },
  {
   "cell_type": "code",
   "execution_count": 443,
   "metadata": {},
   "outputs": [
    {
     "data": {
      "text/plain": [
       "307    3997\n",
       "266    2467\n",
       "265     845\n",
       "299     222\n",
       "264     205\n",
       "292     183\n",
       "285     158\n",
       "141     145\n",
       "205     141\n",
       "179     126\n",
       "218     118\n",
       "109     108\n",
       "103      73\n",
       "254      72\n",
       "20       70\n",
       "189      65\n",
       "243      64\n",
       "195      58\n",
       "213      54\n",
       "247      53\n",
       "Name: breed1, dtype: int64"
      ]
     },
     "execution_count": 443,
     "metadata": {},
     "output_type": "execute_result"
    }
   ],
   "source": [
    "pets['breed1'].value_counts()[:20]"
   ]
  },
  {
   "cell_type": "code",
   "execution_count": 444,
   "metadata": {},
   "outputs": [],
   "source": [
    "with open('../../data/breed_labels1.json') as f:\n",
    "    breeds = json.load(f)"
   ]
  },
  {
   "cell_type": "code",
   "execution_count": 445,
   "metadata": {},
   "outputs": [
    {
     "data": {
      "text/plain": [
       "307"
      ]
     },
     "execution_count": 445,
     "metadata": {},
     "output_type": "execute_result"
    }
   ],
   "source": [
    "len(breeds)"
   ]
  },
  {
   "cell_type": "code",
   "execution_count": 446,
   "metadata": {
    "scrolled": false
   },
   "outputs": [
    {
     "data": {
      "text/plain": [
       "0    Domestic Short Hair\n",
       "1    Domestic Short Hair\n",
       "2            Mixed Breed\n",
       "Name: breed1, dtype: object"
      ]
     },
     "execution_count": 446,
     "metadata": {},
     "output_type": "execute_result"
    }
   ],
   "source": [
    "for n in range(1,len(breeds)):\n",
    "    pets['breed1'] = pets['breed1'].replace(breeds[n]['FIELD1'], breeds[n]['FIELD2'])\n",
    "\n",
    "\n",
    "\n",
    "pets['breed1'][:3]"
   ]
  },
  {
   "cell_type": "code",
   "execution_count": 447,
   "metadata": {
    "scrolled": false
   },
   "outputs": [
    {
     "data": {
      "text/plain": [
       "0    Domestic Short Hair\n",
       "1    Domestic Short Hair\n",
       "2            Mixed Breed\n",
       "Name: breed2, dtype: object"
      ]
     },
     "execution_count": 447,
     "metadata": {},
     "output_type": "execute_result"
    }
   ],
   "source": [
    "for n in range(1,len(breeds)):\n",
    "    pets['breed2'] = pets['breed1'].replace(breeds[n]['FIELD1'], breeds[n]['FIELD2'])\n",
    "\n",
    "\n",
    "\n",
    "pets['breed2'][:3]"
   ]
  },
  {
   "cell_type": "markdown",
   "metadata": {},
   "source": [
    "The above references the json file we saved as 'breeds' as a dictionary to replace the breed numbers with the name of the breed to be more readily readable."
   ]
  },
  {
   "cell_type": "code",
   "execution_count": 448,
   "metadata": {
    "scrolled": true
   },
   "outputs": [
    {
     "data": {
      "text/plain": [
       "Mixed Breed             3997\n",
       "Domestic Short Hair     2467\n",
       "Domestic Medium Hair     845\n",
       "Tabby                    222\n",
       "Domestic Long Hair       205\n",
       "Siamese                  183\n",
       "Persian                  158\n",
       "Labrador Retriever       145\n",
       "Shih Tzu                 141\n",
       "Poodle                   126\n",
       "Terrier                  118\n",
       "Golden Retriever         108\n",
       "German Shepherd Dog       73\n",
       "Calico                    72\n",
       "Beagle                    70\n",
       "Rottweiler                65\n",
       "American Shorthair        64\n",
       "Schnauzer                 58\n",
       "Spitz                     54\n",
       "Bengal                    53\n",
       "Name: breed1, dtype: int64"
      ]
     },
     "execution_count": 448,
     "metadata": {},
     "output_type": "execute_result"
    }
   ],
   "source": [
    "pets['breed1'].value_counts()[:20]"
   ]
  },
  {
   "cell_type": "markdown",
   "metadata": {},
   "source": [
    "Mostly Mixed Breeds or general cat breads.\n",
    "Most common dog is a Lab "
   ]
  },
  {
   "cell_type": "code",
   "execution_count": 449,
   "metadata": {},
   "outputs": [],
   "source": [
    "dogs = pets[pets['type'] ==1]\n",
    "cats = pets[pets['type'] ==2]\n"
   ]
  },
  {
   "cell_type": "code",
   "execution_count": 450,
   "metadata": {},
   "outputs": [
    {
     "data": {
      "text/plain": [
       "Mixed Breed            3994\n",
       "Labrador Retriever      145\n",
       "Shih Tzu                140\n",
       "Poodle                  126\n",
       "Terrier                 117\n",
       "Golden Retriever        108\n",
       "German Shepherd Dog      73\n",
       "Beagle                   70\n",
       "Rottweiler               65\n",
       "Schnauzer                58\n",
       "Name: breed1, dtype: int64"
      ]
     },
     "execution_count": 450,
     "metadata": {},
     "output_type": "execute_result"
    }
   ],
   "source": [
    "dogs['breed1'].value_counts()[:10]"
   ]
  },
  {
   "cell_type": "markdown",
   "metadata": {},
   "source": [
    "As expected mixed bread make up the majority with labs in second. I would have expected to find some kind of pitbull on this list, this is likely do to different preferences between the US and Malaysia.   \n",
    "\n",
    "  \n",
    "This makes me wonder if being labeled simply 'Mixed Breed' compared to having any breed at all. I'm not sure if this is possible with cats."
   ]
  },
  {
   "cell_type": "code",
   "execution_count": 451,
   "metadata": {},
   "outputs": [
    {
     "name": "stderr",
     "output_type": "stream",
     "text": [
      "C:\\Users\\weisj\\anaconda3\\envs\\dsi\\lib\\site-packages\\ipykernel_launcher.py:1: SettingWithCopyWarning: \n",
      "A value is trying to be set on a copy of a slice from a DataFrame.\n",
      "Try using .loc[row_indexer,col_indexer] = value instead\n",
      "\n",
      "See the caveats in the documentation: https://pandas.pydata.org/pandas-docs/stable/user_guide/indexing.html#returning-a-view-versus-a-copy\n",
      "  \"\"\"Entry point for launching an IPython kernel.\n"
     ]
    }
   ],
   "source": [
    "dogs['any_breed']= dogs['breed1'] != 'Mixed Breed'"
   ]
  },
  {
   "cell_type": "code",
   "execution_count": 452,
   "metadata": {},
   "outputs": [
    {
     "data": {
      "text/html": [
       "<div>\n",
       "<style scoped>\n",
       "    .dataframe tbody tr th:only-of-type {\n",
       "        vertical-align: middle;\n",
       "    }\n",
       "\n",
       "    .dataframe tbody tr th {\n",
       "        vertical-align: top;\n",
       "    }\n",
       "\n",
       "    .dataframe thead tr th {\n",
       "        text-align: left;\n",
       "    }\n",
       "\n",
       "    .dataframe thead tr:last-of-type th {\n",
       "        text-align: right;\n",
       "    }\n",
       "</style>\n",
       "<table border=\"1\" class=\"dataframe\">\n",
       "  <thead>\n",
       "    <tr>\n",
       "      <th></th>\n",
       "      <th colspan=\"8\" halign=\"left\">type</th>\n",
       "      <th colspan=\"2\" halign=\"left\">age</th>\n",
       "      <th>...</th>\n",
       "      <th colspan=\"2\" halign=\"left\">photoamt</th>\n",
       "      <th colspan=\"8\" halign=\"left\">adoptionspeed</th>\n",
       "    </tr>\n",
       "    <tr>\n",
       "      <th></th>\n",
       "      <th>count</th>\n",
       "      <th>mean</th>\n",
       "      <th>std</th>\n",
       "      <th>min</th>\n",
       "      <th>25%</th>\n",
       "      <th>50%</th>\n",
       "      <th>75%</th>\n",
       "      <th>max</th>\n",
       "      <th>count</th>\n",
       "      <th>mean</th>\n",
       "      <th>...</th>\n",
       "      <th>75%</th>\n",
       "      <th>max</th>\n",
       "      <th>count</th>\n",
       "      <th>mean</th>\n",
       "      <th>std</th>\n",
       "      <th>min</th>\n",
       "      <th>25%</th>\n",
       "      <th>50%</th>\n",
       "      <th>75%</th>\n",
       "      <th>max</th>\n",
       "    </tr>\n",
       "    <tr>\n",
       "      <th>any_breed</th>\n",
       "      <th></th>\n",
       "      <th></th>\n",
       "      <th></th>\n",
       "      <th></th>\n",
       "      <th></th>\n",
       "      <th></th>\n",
       "      <th></th>\n",
       "      <th></th>\n",
       "      <th></th>\n",
       "      <th></th>\n",
       "      <th></th>\n",
       "      <th></th>\n",
       "      <th></th>\n",
       "      <th></th>\n",
       "      <th></th>\n",
       "      <th></th>\n",
       "      <th></th>\n",
       "      <th></th>\n",
       "      <th></th>\n",
       "      <th></th>\n",
       "      <th></th>\n",
       "    </tr>\n",
       "  </thead>\n",
       "  <tbody>\n",
       "    <tr>\n",
       "      <th>False</th>\n",
       "      <td>3994.0</td>\n",
       "      <td>1.0</td>\n",
       "      <td>0.0</td>\n",
       "      <td>1.0</td>\n",
       "      <td>1.0</td>\n",
       "      <td>1.0</td>\n",
       "      <td>1.0</td>\n",
       "      <td>1.0</td>\n",
       "      <td>3994.0</td>\n",
       "      <td>8.030546</td>\n",
       "      <td>...</td>\n",
       "      <td>5.0</td>\n",
       "      <td>30.0</td>\n",
       "      <td>3994.0</td>\n",
       "      <td>2.730095</td>\n",
       "      <td>1.117339</td>\n",
       "      <td>0.0</td>\n",
       "      <td>2.0</td>\n",
       "      <td>3.0</td>\n",
       "      <td>4.0</td>\n",
       "      <td>4.0</td>\n",
       "    </tr>\n",
       "    <tr>\n",
       "      <th>True</th>\n",
       "      <td>1600.0</td>\n",
       "      <td>1.0</td>\n",
       "      <td>0.0</td>\n",
       "      <td>1.0</td>\n",
       "      <td>1.0</td>\n",
       "      <td>1.0</td>\n",
       "      <td>1.0</td>\n",
       "      <td>1.0</td>\n",
       "      <td>1600.0</td>\n",
       "      <td>28.258125</td>\n",
       "      <td>...</td>\n",
       "      <td>4.0</td>\n",
       "      <td>27.0</td>\n",
       "      <td>1600.0</td>\n",
       "      <td>2.283750</td>\n",
       "      <td>1.136461</td>\n",
       "      <td>0.0</td>\n",
       "      <td>1.0</td>\n",
       "      <td>2.0</td>\n",
       "      <td>3.0</td>\n",
       "      <td>4.0</td>\n",
       "    </tr>\n",
       "  </tbody>\n",
       "</table>\n",
       "<p>2 rows × 144 columns</p>\n",
       "</div>"
      ],
      "text/plain": [
       "             type                                        age             ...  \\\n",
       "            count mean  std  min  25%  50%  75%  max   count       mean  ...   \n",
       "any_breed                                                                ...   \n",
       "False      3994.0  1.0  0.0  1.0  1.0  1.0  1.0  1.0  3994.0   8.030546  ...   \n",
       "True       1600.0  1.0  0.0  1.0  1.0  1.0  1.0  1.0  1600.0  28.258125  ...   \n",
       "\n",
       "          photoamt       adoptionspeed                                     \\\n",
       "               75%   max         count      mean       std  min  25%  50%   \n",
       "any_breed                                                                   \n",
       "False          5.0  30.0        3994.0  2.730095  1.117339  0.0  2.0  3.0   \n",
       "True           4.0  27.0        1600.0  2.283750  1.136461  0.0  1.0  2.0   \n",
       "\n",
       "                     \n",
       "           75%  max  \n",
       "any_breed            \n",
       "False      4.0  4.0  \n",
       "True       3.0  4.0  \n",
       "\n",
       "[2 rows x 144 columns]"
      ]
     },
     "execution_count": 452,
     "metadata": {},
     "output_type": "execute_result"
    }
   ],
   "source": [
    "dogs.groupby('any_breed').describe() # mixed breed is false"
   ]
  },
  {
   "cell_type": "code",
   "execution_count": 453,
   "metadata": {},
   "outputs": [],
   "source": [
    "mixed = dogs.loc[dogs['any_breed'] == True, 'adoptionspeed']\n",
    "breed = dogs.loc[dogs['any_breed'] == False, 'adoptionspeed']"
   ]
  },
  {
   "cell_type": "markdown",
   "metadata": {},
   "source": [
    "We've now masked by being any breed (as opposed to Mixed Breed) makes a difference"
   ]
  },
  {
   "cell_type": "code",
   "execution_count": 454,
   "metadata": {},
   "outputs": [
    {
     "name": "stdout",
     "output_type": "stream",
     "text": [
      "Mixed Mean Speed:  2.28375\n",
      "Any Breed Mean Speed:  2.730095142714071\n"
     ]
    }
   ],
   "source": [
    "print('Mixed Mean Speed: ',mixed.mean())\n",
    "print('Any Breed Mean Speed: ',breed.mean())"
   ]
  },
  {
   "cell_type": "markdown",
   "metadata": {},
   "source": [
    "There is a difference here, lets find out if it is significant. We will test the following hypothisis, using an alpha value of 0.05 to deterimine signifigance: \n",
    "\n",
    "H0 - The true mean difference in adoption speed between dogs with a breed and without is 0\n",
    "\n",
    "HA - The true mean difference in adoption speed between dogs with a breed and without is not 0 "
   ]
  },
  {
   "cell_type": "code",
   "execution_count": 455,
   "metadata": {},
   "outputs": [
    {
     "data": {
      "text/plain": [
       "Ttest_indResult(statistic=13.33833467065783, pvalue=1.958942099038165e-39)"
      ]
     },
     "execution_count": 455,
     "metadata": {},
     "output_type": "execute_result"
    }
   ],
   "source": [
    "stats.ttest_ind(breed,mixed, equal_var = False)"
   ]
  },
  {
   "cell_type": "markdown",
   "metadata": {},
   "source": [
    "The test results show that having a breed is significant when looking at adoption speed. The p-value of 1.95 x 10^-39 is far below our alpha of 0.05"
   ]
  },
  {
   "cell_type": "markdown",
   "metadata": {},
   "source": [
    "# breeds "
   ]
  },
  {
   "cell_type": "code",
   "execution_count": 456,
   "metadata": {},
   "outputs": [
    {
     "data": {
      "text/plain": [
       "breed1\n",
       "Dutch Shepherd      1.0\n",
       "Foxhound            1.0\n",
       "Kuvasz              1.0\n",
       "Lhasa Apso          1.0\n",
       "Saint Bernard       1.0\n",
       "                   ... \n",
       "Pointer             4.0\n",
       "American Bulldog    4.0\n",
       "1                   4.0\n",
       "Spaniel             4.0\n",
       "0                   4.0\n",
       "Name: adoptionspeed, Length: 106, dtype: float64"
      ]
     },
     "execution_count": 456,
     "metadata": {},
     "output_type": "execute_result"
    }
   ],
   "source": [
    "dogs.groupby('breed1')['adoptionspeed'].mean().sort_values()"
   ]
  },
  {
   "cell_type": "code",
   "execution_count": 457,
   "metadata": {},
   "outputs": [
    {
     "data": {
      "text/plain": [
       "Mixed Breed            3994\n",
       "Labrador Retriever      145\n",
       "Shih Tzu                140\n",
       "Poodle                  126\n",
       "Terrier                 117\n",
       "Golden Retriever        108\n",
       "German Shepherd Dog      73\n",
       "Beagle                   70\n",
       "Rottweiler               65\n",
       "Schnauzer                58\n",
       "Name: breed1, dtype: int64"
      ]
     },
     "execution_count": 457,
     "metadata": {},
     "output_type": "execute_result"
    }
   ],
   "source": [
    "dogs['breed1'].value_counts()[:10]"
   ]
  },
  {
   "cell_type": "code",
   "execution_count": 458,
   "metadata": {},
   "outputs": [
    {
     "data": {
      "text/plain": [
       "Domestic Short Hair     2467\n",
       "Domestic Medium Hair     845\n",
       "Tabby                    222\n",
       "Domestic Long Hair       205\n",
       "Siamese                  183\n",
       "Persian                  158\n",
       "Calico                    72\n",
       "American Shorthair        64\n",
       "Bengal                    53\n",
       "Oriental Short Hair       48\n",
       "Name: breed1, dtype: int64"
      ]
     },
     "execution_count": 458,
     "metadata": {},
     "output_type": "execute_result"
    }
   ],
   "source": [
    "cats['breed1'].value_counts()[:10]"
   ]
  },
  {
   "cell_type": "markdown",
   "metadata": {},
   "source": [
    "Generic Domestics by far the most"
   ]
  },
  {
   "cell_type": "markdown",
   "metadata": {},
   "source": [
    "### Preprocessing"
   ]
  },
  {
   "cell_type": "code",
   "execution_count": 459,
   "metadata": {},
   "outputs": [],
   "source": [
    "pets = pd.get_dummies(pets, columns = ['breed1','breed2','color1', 'color2', 'color3','type', 'gender'], drop_first = True)\n"
   ]
  },
  {
   "cell_type": "code",
   "execution_count": 460,
   "metadata": {},
   "outputs": [],
   "source": [
    "pets.to_csv('../../data/clean_pets.csv', index = False) # Clean and dummied data set"
   ]
  },
  {
   "cell_type": "code",
   "execution_count": 478,
   "metadata": {},
   "outputs": [
    {
     "name": "stdout",
     "output_type": "stream",
     "text": [
      "X Train (7686, 351)\n",
      "X Test (2563, 351)\n",
      "\n",
      "y Train (7686,)\n",
      "y Test (2563,)\n",
      "Z Train (7686, 351)\n",
      "Z Test (2563, 351)\n"
     ]
    }
   ],
   "source": [
    "# Train-Test Split  - 7686x309 and 2563x309\n",
    "\n",
    "X = pets.drop(columns = ['name', 'adoptionspeed', 'description', 'petid', 'rescuerid', 'state'])\n",
    "y = pets['adoptionspeed']\n",
    "\n",
    "X_train, X_test, y_train, y_test = train_test_split(X,y, random_state = rdst)\n",
    "\n",
    "print('X Train', X_train.shape)\n",
    "print('X Test', X_test.shape)\n",
    "print()\n",
    "print('y Train', y_train.shape)\n",
    "print('y Test', y_test.shape)\n",
    "\n",
    "# Standard Scalar\n",
    "\n",
    "ss = StandardScaler()\n",
    "Z_train = ss.fit_transform(X_train)\n",
    "Z_test  = ss.transform(X_test)\n",
    "print('Z Train', Z_train.shape)\n",
    "print('Z Test', Z_test.shape)\n"
   ]
  },
  {
   "cell_type": "markdown",
   "metadata": {},
   "source": [
    "The pre-processing has left us with three sets;   \n",
    "- X_train/test => Features for training and predicting\n",
    "- y_train/test => Target Value (Adoption Speed)   \n",
    "- Z_train/test => X scaled, fitted to the X_train set\n"
   ]
  },
  {
   "cell_type": "code",
   "execution_count": null,
   "metadata": {},
   "outputs": [],
   "source": []
  },
  {
   "cell_type": "markdown",
   "metadata": {},
   "source": [
    "# Modeling"
   ]
  },
  {
   "cell_type": "markdown",
   "metadata": {},
   "source": [
    "### Baseline"
   ]
  },
  {
   "cell_type": "code",
   "execution_count": 480,
   "metadata": {},
   "outputs": [
    {
     "name": "stdout",
     "output_type": "stream",
     "text": [
      "Train Score:  0.24134790528233152\n",
      "Test Score:  0.22863831447522434\n"
     ]
    }
   ],
   "source": [
    "dc = DummyClassifier()       # Instantiate Dummy Model for Baseline     \n",
    "dc.fit(X_train, y_train)     # Fit \n",
    "print(\"Train Score: \", dc.score(X_train, y_train))\n",
    "print('Test Score: ',  dc.score(X_test, y_test))\n"
   ]
  },
  {
   "cell_type": "markdown",
   "metadata": {},
   "source": [
    "Baseline test score is 22.86%"
   ]
  },
  {
   "cell_type": "markdown",
   "metadata": {},
   "source": [
    "###  Logistic Regression"
   ]
  },
  {
   "cell_type": "code",
   "execution_count": 481,
   "metadata": {},
   "outputs": [
    {
     "data": {
      "text/plain": [
       "LogisticRegression(C=1.0, class_weight=None, dual=False, fit_intercept=True,\n",
       "                   intercept_scaling=1, l1_ratio=None, max_iter=10000,\n",
       "                   multi_class='auto', n_jobs=None, penalty='l2',\n",
       "                   random_state=None, solver='lbfgs', tol=0.0001, verbose=0,\n",
       "                   warm_start=True)"
      ]
     },
     "execution_count": 481,
     "metadata": {},
     "output_type": "execute_result"
    }
   ],
   "source": [
    "lr = LogisticRegression(solver = 'lbfgs', max_iter = 10000, warm_start = True)\n",
    "lr.fit(X_train, y_train)\n",
    "\n"
   ]
  },
  {
   "cell_type": "code",
   "execution_count": 489,
   "metadata": {},
   "outputs": [
    {
     "name": "stdout",
     "output_type": "stream",
     "text": [
      "Train Score:  0.3800416341399948\n",
      "Test Score:  0.3573936792820913\n",
      "Cross-Val:  0.34634321330882023\n"
     ]
    }
   ],
   "source": [
    "print(\"Train Score: \", lr.score(X_train, y_train))\n",
    "print('Test Score: ',  lr.score(X_test, y_test))\n",
    "print('Cross-Val: ',   cross_val_score(lr,Z_train, y_train).mean())"
   ]
  },
  {
   "cell_type": "markdown",
   "metadata": {},
   "source": [
    "###  K-Nearest Neighbors"
   ]
  },
  {
   "cell_type": "code",
   "execution_count": 54,
   "metadata": {},
   "outputs": [],
   "source": [
    "knn = KNeighborsClassifier(n_neighbors = 5)    # Instantiate"
   ]
  },
  {
   "cell_type": "code",
   "execution_count": 55,
   "metadata": {},
   "outputs": [
    {
     "data": {
      "text/plain": [
       "KNeighborsClassifier(algorithm='auto', leaf_size=30, metric='minkowski',\n",
       "                     metric_params=None, n_jobs=None, n_neighbors=5, p=2,\n",
       "                     weights='uniform')"
      ]
     },
     "execution_count": 55,
     "metadata": {},
     "output_type": "execute_result"
    }
   ],
   "source": [
    "# Fit model\n",
    "\n",
    "knn.fit(Z_train, y_train)"
   ]
  },
  {
   "cell_type": "code",
   "execution_count": 56,
   "metadata": {},
   "outputs": [
    {
     "name": "stdout",
     "output_type": "stream",
     "text": [
      "Train Score:  0.5201665365599791\n",
      "Test Score:  0.3187670698400312\n",
      "Cross-Val:  0.2943021423017666\n"
     ]
    }
   ],
   "source": [
    "print(\"Train Score: \", knn.score(Z_train, y_train))\n",
    "print('Test Score: ',  knn.score(Z_test, y_test))\n",
    "print('Cross-Val: ',   cross_val_score(knn,Z_train, y_train).mean())"
   ]
  },
  {
   "cell_type": "markdown",
   "metadata": {},
   "source": [
    "### Decision Tree"
   ]
  },
  {
   "cell_type": "markdown",
   "metadata": {},
   "source": [
    "At first pass it is a bit better on the test set, but massively overfit. Lets tune it"
   ]
  },
  {
   "cell_type": "code",
   "execution_count": 484,
   "metadata": {},
   "outputs": [],
   "source": [
    "grid = GridSearchCV(DecisionTreeClassifier(),\n",
    "                   param_grid = {'max_depth' : [2,3,4,5,6,7,8,9],\n",
    "                                 'min_samples_split' : [5, 10, 15, 20, 25, 30],\n",
    "                                 'min_samples_leaf' : [2, 3, 4, 5, 6, 7, 8, 9]},\n",
    "                                cv = 5,\n",
    "                                 verbose = 0) \n",
    "                                "
   ]
  },
  {
   "cell_type": "code",
   "execution_count": 485,
   "metadata": {},
   "outputs": [
    {
     "data": {
      "text/plain": [
       "GridSearchCV(cv=5, error_score=nan,\n",
       "             estimator=DecisionTreeClassifier(ccp_alpha=0.0, class_weight=None,\n",
       "                                              criterion='gini', max_depth=None,\n",
       "                                              max_features=None,\n",
       "                                              max_leaf_nodes=None,\n",
       "                                              min_impurity_decrease=0.0,\n",
       "                                              min_impurity_split=None,\n",
       "                                              min_samples_leaf=1,\n",
       "                                              min_samples_split=2,\n",
       "                                              min_weight_fraction_leaf=0.0,\n",
       "                                              presort='deprecated',\n",
       "                                              random_state=None,\n",
       "                                              splitter='best'),\n",
       "             iid='deprecated', n_jobs=None,\n",
       "             param_grid={'max_depth': [2, 3, 4, 5, 6, 7, 8, 9],\n",
       "                         'min_samples_leaf': [2, 3, 4, 5, 6, 7, 8, 9],\n",
       "                         'min_samples_split': [5, 10, 15, 20, 25, 30]},\n",
       "             pre_dispatch='2*n_jobs', refit=True, return_train_score=False,\n",
       "             scoring=None, verbose=0)"
      ]
     },
     "execution_count": 485,
     "metadata": {},
     "output_type": "execute_result"
    }
   ],
   "source": [
    "grid.fit(X_train, y_train)"
   ]
  },
  {
   "cell_type": "code",
   "execution_count": 490,
   "metadata": {},
   "outputs": [
    {
     "data": {
      "text/plain": [
       "DecisionTreeClassifier(ccp_alpha=0.0, class_weight=None, criterion='gini',\n",
       "                       max_depth=9, max_features=None, max_leaf_nodes=None,\n",
       "                       min_impurity_decrease=0.0, min_impurity_split=None,\n",
       "                       min_samples_leaf=2, min_samples_split=30,\n",
       "                       min_weight_fraction_leaf=0.0, presort='deprecated',\n",
       "                       random_state=None, splitter='best')"
      ]
     },
     "execution_count": 490,
     "metadata": {},
     "output_type": "execute_result"
    }
   ],
   "source": [
    "dec_tree = grid.best_estimator_\n",
    "\n",
    "dec_tree"
   ]
  },
  {
   "cell_type": "code",
   "execution_count": 488,
   "metadata": {},
   "outputs": [
    {
     "name": "stdout",
     "output_type": "stream",
     "text": [
      "Train Score:  0.4410616705698673\n",
      "Test Score:  0.36831837690206787\n",
      "Cross Val:  0.37977931440590285\n"
     ]
    }
   ],
   "source": [
    "print('Train Score: ', dec_tree.score(X_train, y_train))\n",
    "print('Test Score: ', dec_tree.score(X_test, y_test))\n",
    "print('Cross Val: ', cross_val_score(dec_tree, X_train, y_train).mean())"
   ]
  },
  {
   "cell_type": "code",
   "execution_count": 64,
   "metadata": {},
   "outputs": [],
   "source": [
    "preds = dec_tree.predict(X_test)"
   ]
  },
  {
   "cell_type": "markdown",
   "metadata": {},
   "source": [
    "Looks like it pulls kind of tight to the center, which means it isn't off by a ton. Scores show we are getting better, up from 32% to 37%"
   ]
  },
  {
   "cell_type": "markdown",
   "metadata": {},
   "source": [
    "###  Bagging"
   ]
  },
  {
   "cell_type": "code",
   "execution_count": 492,
   "metadata": {},
   "outputs": [
    {
     "name": "stdout",
     "output_type": "stream",
     "text": [
      "Train:  0.4946656258131668\n",
      "Test:  0.3850955911041748\n",
      "Cross Val:  0.39408725255627375\n"
     ]
    }
   ],
   "source": [
    "bag = BaggingClassifier(dec_tree, n_estimators=300,  random_state= rdst)  # Instantiate\n",
    "bag.fit(X_train, y_train)                                                # Fit \n",
    "\n",
    "print('Train: ', bag.score(X_train, y_train))\n",
    "print('Test: ', bag.score(X_test, y_test))\n",
    "print('Cross Val: ', cross_val_score(bag,X,y).mean())\n",
    "\n"
   ]
  },
  {
   "cell_type": "markdown",
   "metadata": {},
   "source": [
    "Bag Training Score: 49.47%  \n",
    "Bag Testing Score:  38.51%"
   ]
  },
  {
   "cell_type": "markdown",
   "metadata": {},
   "source": [
    "### Random Forest"
   ]
  },
  {
   "cell_type": "code",
   "execution_count": 495,
   "metadata": {},
   "outputs": [
    {
     "data": {
      "text/plain": [
       "GridSearchCV(cv=5, error_score=nan,\n",
       "             estimator=RandomForestClassifier(bootstrap=True, ccp_alpha=0.0,\n",
       "                                              class_weight=None,\n",
       "                                              criterion='gini', max_depth=None,\n",
       "                                              max_features='auto',\n",
       "                                              max_leaf_nodes=None,\n",
       "                                              max_samples=None,\n",
       "                                              min_impurity_decrease=0.0,\n",
       "                                              min_impurity_split=None,\n",
       "                                              min_samples_leaf=1,\n",
       "                                              min_samples_split=2,\n",
       "                                              min_weight_fraction_leaf=0.0,\n",
       "                                              n_estimators=100, n_jobs=None,\n",
       "                                              oob_score=False,\n",
       "                                              random_state=None, verbose=0,\n",
       "                                              warm_start=False),\n",
       "             iid='deprecated', n_jobs=None,\n",
       "             param_grid={'max_depth': [None, 6, 10, 15],\n",
       "                         'max_features': [None, 4, 5, 6, 7, 8],\n",
       "                         'n_estimators': [200, 300, 400, 500]},\n",
       "             pre_dispatch='2*n_jobs', refit=True, return_train_score=False,\n",
       "             scoring=None, verbose=0)"
      ]
     },
     "execution_count": 495,
     "metadata": {},
     "output_type": "execute_result"
    }
   ],
   "source": [
    "rf = RandomForestClassifier()\n",
    "params = {\n",
    "    'n_estimators' : [200,300, 400, 500],\n",
    "    'max_features' : [None, 4, 5, 6, 7, 8],\n",
    "    'max_depth' : [None, 6 ,10 ,15]\n",
    "}\n",
    "\n",
    "gs = GridSearchCV(rf, param_grid = params, cv = 5)\n",
    "gs.fit(X_train, y_train)\n"
   ]
  },
  {
   "cell_type": "code",
   "execution_count": 496,
   "metadata": {},
   "outputs": [],
   "source": [
    "rfb = gs.best_estimator_"
   ]
  },
  {
   "cell_type": "code",
   "execution_count": 497,
   "metadata": {},
   "outputs": [
    {
     "name": "stdout",
     "output_type": "stream",
     "text": [
      "RF Test Score:  0.3913382754584471\n"
     ]
    }
   ],
   "source": [
    "print('RF Test Score: ', gs.score(X_test, y_test))\n",
    "    "
   ]
  },
  {
   "cell_type": "markdown",
   "metadata": {},
   "source": [
    "RF Training Score: 40.41%  \n",
    "RF Testing Score:  39.17%"
   ]
  },
  {
   "cell_type": "markdown",
   "metadata": {},
   "source": [
    "### Extra Trees"
   ]
  },
  {
   "cell_type": "code",
   "execution_count": 74,
   "metadata": {},
   "outputs": [
    {
     "data": {
      "text/plain": [
       "0.3494638111667722"
      ]
     },
     "execution_count": 74,
     "metadata": {},
     "output_type": "execute_result"
    }
   ],
   "source": [
    "extree = ExtraTreesClassifier()\n",
    "cross_val_score(extree, X_train, y_train, cv = 5).mean()"
   ]
  },
  {
   "cell_type": "code",
   "execution_count": 75,
   "metadata": {},
   "outputs": [
    {
     "name": "stdout",
     "output_type": "stream",
     "text": [
      "Best Score:  0.3858937707336924\n"
     ]
    },
    {
     "data": {
      "text/plain": [
       "{'max_depth': 10, 'max_features': None, 'n_estimators': 50}"
      ]
     },
     "execution_count": 75,
     "metadata": {},
     "output_type": "execute_result"
    }
   ],
   "source": [
    "extree = ExtraTreesClassifier()\n",
    "params = {\n",
    "    'n_estimators' : [10, 50, 100, 200,300],\n",
    "    'max_features' : [None, 4, 5, 6, 7, 8],\n",
    "    'max_depth' : [None, 6 ,10 ,15, 20]\n",
    "}\n",
    "\n",
    "gsext = GridSearchCV(extree, param_grid = params, cv = 5)\n",
    "gsext.fit(X_train, y_train)\n",
    "\n",
    "gsext.best_params_"
   ]
  },
  {
   "cell_type": "code",
   "execution_count": 76,
   "metadata": {},
   "outputs": [
    {
     "name": "stdout",
     "output_type": "stream",
     "text": [
      "Train:  0.5539942753057507\n",
      "Test:  0.37690206788919234\n",
      "Cross Val:  0.38559806687378734\n"
     ]
    }
   ],
   "source": [
    "print('Train: ', gsext.score(X_train, y_train))\n",
    "print('Test: ', gsext.score(X_test, y_test))\n",
    "print('Cross Val: ', cross_val_score(gsext,X,y).mean())"
   ]
  },
  {
   "cell_type": "markdown",
   "metadata": {},
   "source": [
    "ET Training Score: 55.40%  \n",
    "ET Testing Score:  37.69%"
   ]
  },
  {
   "cell_type": "markdown",
   "metadata": {},
   "source": [
    "### Neural Network"
   ]
  },
  {
   "cell_type": "code",
   "execution_count": 501,
   "metadata": {},
   "outputs": [],
   "source": [
    "y_train=to_categorical(y_train)\n",
    "y_test=to_categorical(y_test)"
   ]
  },
  {
   "cell_type": "code",
   "execution_count": 502,
   "metadata": {},
   "outputs": [
    {
     "data": {
      "text/plain": [
       "(7686, 351)"
      ]
     },
     "execution_count": 502,
     "metadata": {},
     "output_type": "execute_result"
    }
   ],
   "source": [
    "Z_train.shape\n",
    "\n"
   ]
  },
  {
   "cell_type": "code",
   "execution_count": 507,
   "metadata": {},
   "outputs": [],
   "source": [
    "model = Sequential()                        # Inatantiate\n",
    "model.add(Dense(128,                        # Input Layer\n",
    "               input_shape = (351,), \n",
    "               activation = 'relu'))\n",
    "model.add(Dense(64, activation = 'relu'))   # First Hidden Layer\n",
    "model.add(Dropout(.5))                      # First Dropout\n",
    "model.add(Dense(32, activation = 'relu'))   # Second Hidden Layer\n",
    "model.add(Dropout(.5))\n",
    "model.add(Dense(5, activation = 'softmax')) # Output Layer"
   ]
  },
  {
   "cell_type": "code",
   "execution_count": 508,
   "metadata": {},
   "outputs": [],
   "source": [
    "model.compile(loss='categorical_crossentropy', optimizer = 'adam', metrics = ['accuracy'])"
   ]
  },
  {
   "cell_type": "code",
   "execution_count": 513,
   "metadata": {
    "scrolled": true
   },
   "outputs": [],
   "source": [
    "early_stop = EarlyStopping(monitor = 'val_loss', min_delta=0, patience=5, verbose =0, mode='auto')\n",
    "history_es = model.fit(Z_train, y_train, validation_data = (Z_test, y_test),epochs = 5000, batch_size = 512, callbacks=[early_stop], verbose = 0)"
   ]
  },
  {
   "cell_type": "code",
   "execution_count": 510,
   "metadata": {},
   "outputs": [
    {
     "data": {
      "image/png": "[encoded data removed]",
      "text/plain": [
       "<Figure size 432x288 with 1 Axes>"
      ]
     },
     "metadata": {
      "needs_background": "light"
     },
     "output_type": "display_data"
    }
   ],
   "source": [
    "plt.plot(history_es.history['loss'], label='Train loss')\n",
    "plt.plot(history_es.history['val_loss'], label='Val Loss')\n",
    "plt.legend();"
   ]
  },
  {
   "cell_type": "code",
   "execution_count": 511,
   "metadata": {
    "scrolled": true
   },
   "outputs": [
    {
     "data": {
      "image/png": "[encoded data removed]",
      "text/plain": [
       "<Figure size 432x288 with 1 Axes>"
      ]
     },
     "metadata": {
      "needs_background": "light"
     },
     "output_type": "display_data"
    }
   ],
   "source": [
    "plt.plot(history_es.history['accuracy'], label='Train accuracy')\n",
    "plt.plot(history_es.history['val_accuracy'], label='Val accuracy')\n",
    "plt.legend();"
   ]
  },
  {
   "cell_type": "markdown",
   "metadata": {},
   "source": [
    "### GridSearch"
   ]
  },
  {
   "cell_type": "markdown",
   "metadata": {},
   "source": [
    "## Model Selection"
   ]
  },
  {
   "cell_type": "markdown",
   "metadata": {},
   "source": [
    "As we can see, the Random Forest model has the highest accuracy (though it is also the most overfit). Because of the time involved getting the cross-val scores, we've included a summary chart below. \n",
    "\n",
    "<img src=\"../assets/summary.jpg\" style=\"float: center; margin: 20px; height: 500\">\n"
   ]
  },
  {
   "cell_type": "markdown",
   "metadata": {},
   "source": [
    "## Model Evaluation"
   ]
  },
  {
   "cell_type": "code",
   "execution_count": 97,
   "metadata": {},
   "outputs": [
    {
     "data": {
      "text/plain": [
       "{'max_depth': 15, 'max_features': None, 'n_estimators': 400}"
      ]
     },
     "execution_count": 97,
     "metadata": {},
     "output_type": "execute_result"
    }
   ],
   "source": [
    "gs.best_params_"
   ]
  },
  {
   "cell_type": "code",
   "execution_count": 98,
   "metadata": {},
   "outputs": [
    {
     "name": "stdout",
     "output_type": "stream",
     "text": [
      "RF Test Score:  0.39172844323058914\n"
     ]
    }
   ],
   "source": [
    "print('RF Test Score: ', gs.score(X_test, y_test))\n",
    "    "
   ]
  },
  {
   "cell_type": "code",
   "execution_count": 99,
   "metadata": {},
   "outputs": [],
   "source": [
    "rf = gs.best_estimator_"
   ]
  },
  {
   "cell_type": "code",
   "execution_count": 493,
   "metadata": {},
   "outputs": [
    {
     "ename": "NameError",
     "evalue": "name 'rf' is not defined",
     "output_type": "error",
     "traceback": [
      "\u001b[1;31m---------------------------------------------------------------------------\u001b[0m",
      "\u001b[1;31mNameError\u001b[0m                                 Traceback (most recent call last)",
      "\u001b[1;32m<ipython-input-493-0907a71490de>\u001b[0m in \u001b[0;36m<module>\u001b[1;34m\u001b[0m\n\u001b[1;32m----> 1\u001b[1;33m \u001b[0mpreds\u001b[0m \u001b[1;33m=\u001b[0m \u001b[0mrf\u001b[0m\u001b[1;33m.\u001b[0m\u001b[0mpredict\u001b[0m\u001b[1;33m(\u001b[0m\u001b[0mX_test\u001b[0m\u001b[1;33m)\u001b[0m\u001b[1;33m\u001b[0m\u001b[1;33m\u001b[0m\u001b[0m\n\u001b[0m",
      "\u001b[1;31mNameError\u001b[0m: name 'rf' is not defined"
     ]
    }
   ],
   "source": [
    "preds = rf.predict(X_test)"
   ]
  },
  {
   "cell_type": "code",
   "execution_count": 101,
   "metadata": {},
   "outputs": [
    {
     "data": {
      "text/plain": [
       "''"
      ]
     },
     "execution_count": 101,
     "metadata": {},
     "output_type": "execute_result"
    },
    {
     "data": {
      "image/png": "[encoded data removed]",
      "text/plain": [
       "<Figure size 720x720 with 2 Axes>"
      ]
     },
     "metadata": {
      "needs_background": "light"
     },
     "output_type": "display_data"
    }
   ],
   "source": [
    "cm = confusion_matrix(y_test, preds)\n",
    "plt.figure(figsize = (10,10))\n",
    "sns.heatmap(cm, cmap = 'GnBu', fmt='g', annot = True, linewidth = 1 )\n",
    "plt.title(\"Random Forest Adoption Speed Confusion Matrix\")\n",
    "plt.xlabel(\"Predicted Adoption Speed\", size = 14)\n",
    "plt.ylabel(\"Actual Adoption Speed\", size = 14)\n",
    ";"
   ]
  },
  {
   "cell_type": "markdown",
   "metadata": {},
   "source": [
    "Out of 2,563 test observations, we were exactly right 1,013 times. This is an accuracy of 39.5%  \n",
    "  \n",
    "While this number doesn't seem that great, it is also valuble to be 'close'. For example, there are 186 pets that were predicted to be adopted within a month that were actually adopted in the first week. While this isn't an 'accurate' prediction, it is still instructive.\n"
   ]
  },
  {
   "cell_type": "code",
   "execution_count": 65,
   "metadata": {},
   "outputs": [
    {
     "name": "stdout",
     "output_type": "stream",
     "text": [
      "              precision    recall  f1-score   support\n",
      "\n",
      "           0       1.00      0.02      0.03        58\n",
      "           1       0.32      0.31      0.32       544\n",
      "           2       0.32      0.43      0.37       691\n",
      "           3       0.37      0.17      0.23       569\n",
      "           4       0.47      0.57      0.52       701\n",
      "\n",
      "    accuracy                           0.38      2563\n",
      "   macro avg       0.50      0.30      0.29      2563\n",
      "weighted avg       0.39      0.38      0.36      2563\n",
      "\n"
     ]
    }
   ],
   "source": [
    "print(skm.classification_report(y_test, preds))"
   ]
  },
  {
   "cell_type": "code",
   "execution_count": 102,
   "metadata": {},
   "outputs": [
    {
     "data": {
      "text/plain": [
       "{'0': {'precision': 0.2,\n",
       "  'recall': 0.017241379310344827,\n",
       "  'f1-score': 0.031746031746031744,\n",
       "  'support': 58},\n",
       " '1': {'precision': 0.35346358792184723,\n",
       "  'recall': 0.36580882352941174,\n",
       "  'f1-score': 0.35953026196928634,\n",
       "  'support': 544},\n",
       " '2': {'precision': 0.3440721649484536,\n",
       "  'recall': 0.38639652677279307,\n",
       "  'f1-score': 0.3640081799591003,\n",
       "  'support': 691},\n",
       " '3': {'precision': 0.3564954682779456,\n",
       "  'recall': 0.20738137082601055,\n",
       "  'f1-score': 0.2622222222222222,\n",
       "  'support': 569},\n",
       " '4': {'precision': 0.47184684684684686,\n",
       "  'recall': 0.5977175463623395,\n",
       "  'f1-score': 0.5273757079924482,\n",
       "  'support': 701},\n",
       " 'accuracy': 0.39172844323058914,\n",
       " 'macro avg': {'precision': 0.34517561359901866,\n",
       "  'recall': 0.3149091293601799,\n",
       "  'f1-score': 0.30897648077781775,\n",
       "  'support': 2563},\n",
       " 'weighted avg': {'precision': 0.38051058092027196,\n",
       "  'recall': 0.39172844323058914,\n",
       "  'f1-score': 0.377623956477351,\n",
       "  'support': 2563}}"
      ]
     },
     "execution_count": 102,
     "metadata": {},
     "output_type": "execute_result"
    }
   ],
   "source": [
    "classification_report(y_test, preds, output_dict = True)"
   ]
  },
  {
   "cell_type": "code",
   "execution_count": 103,
   "metadata": {},
   "outputs": [],
   "source": [
    "feat_importance = list(zip(X_train.columns, rf.feature_importances_))\n",
    "importance = feat_importance.sort(reverse = True)"
   ]
  },
  {
   "cell_type": "code",
   "execution_count": 104,
   "metadata": {},
   "outputs": [
    {
     "data": {
      "text/html": [
       "<div>\n",
       "<style scoped>\n",
       "    .dataframe tbody tr th:only-of-type {\n",
       "        vertical-align: middle;\n",
       "    }\n",
       "\n",
       "    .dataframe tbody tr th {\n",
       "        vertical-align: top;\n",
       "    }\n",
       "\n",
       "    .dataframe thead th {\n",
       "        text-align: right;\n",
       "    }\n",
       "</style>\n",
       "<table border=\"1\" class=\"dataframe\">\n",
       "  <thead>\n",
       "    <tr style=\"text-align: right;\">\n",
       "      <th></th>\n",
       "      <th>0</th>\n",
       "      <th>1</th>\n",
       "    </tr>\n",
       "  </thead>\n",
       "  <tbody>\n",
       "    <tr>\n",
       "      <th>23</th>\n",
       "      <td>color2_2</td>\n",
       "      <td>0.020653</td>\n",
       "    </tr>\n",
       "    <tr>\n",
       "      <th>13</th>\n",
       "      <td>color3_7</td>\n",
       "      <td>0.020750</td>\n",
       "    </tr>\n",
       "    <tr>\n",
       "      <th>18</th>\n",
       "      <td>color2_7</td>\n",
       "      <td>0.024675</td>\n",
       "    </tr>\n",
       "    <tr>\n",
       "      <th>29</th>\n",
       "      <td>color1_2</td>\n",
       "      <td>0.024680</td>\n",
       "    </tr>\n",
       "    <tr>\n",
       "      <th>4</th>\n",
       "      <td>quantity</td>\n",
       "      <td>0.026929</td>\n",
       "    </tr>\n",
       "    <tr>\n",
       "      <th>214</th>\n",
       "      <td>breed1_Mixed Breed</td>\n",
       "      <td>0.027674</td>\n",
       "    </tr>\n",
       "    <tr>\n",
       "      <th>9</th>\n",
       "      <td>gender_2</td>\n",
       "      <td>0.032573</td>\n",
       "    </tr>\n",
       "    <tr>\n",
       "      <th>12</th>\n",
       "      <td>dewormed</td>\n",
       "      <td>0.034912</td>\n",
       "    </tr>\n",
       "    <tr>\n",
       "      <th>1</th>\n",
       "      <td>vaccinated</td>\n",
       "      <td>0.035744</td>\n",
       "    </tr>\n",
       "    <tr>\n",
       "      <th>10</th>\n",
       "      <td>furlength</td>\n",
       "      <td>0.037408</td>\n",
       "    </tr>\n",
       "    <tr>\n",
       "      <th>3</th>\n",
       "      <td>sterilized</td>\n",
       "      <td>0.039663</td>\n",
       "    </tr>\n",
       "    <tr>\n",
       "      <th>6</th>\n",
       "      <td>maturitysize</td>\n",
       "      <td>0.044560</td>\n",
       "    </tr>\n",
       "    <tr>\n",
       "      <th>11</th>\n",
       "      <td>fee</td>\n",
       "      <td>0.044903</td>\n",
       "    </tr>\n",
       "    <tr>\n",
       "      <th>5</th>\n",
       "      <td>photoamt</td>\n",
       "      <td>0.122911</td>\n",
       "    </tr>\n",
       "    <tr>\n",
       "      <th>308</th>\n",
       "      <td>age</td>\n",
       "      <td>0.140751</td>\n",
       "    </tr>\n",
       "  </tbody>\n",
       "</table>\n",
       "</div>"
      ],
      "text/plain": [
       "                      0         1\n",
       "23             color2_2  0.020653\n",
       "13             color3_7  0.020750\n",
       "18             color2_7  0.024675\n",
       "29             color1_2  0.024680\n",
       "4              quantity  0.026929\n",
       "214  breed1_Mixed Breed  0.027674\n",
       "9              gender_2  0.032573\n",
       "12             dewormed  0.034912\n",
       "1            vaccinated  0.035744\n",
       "10            furlength  0.037408\n",
       "3            sterilized  0.039663\n",
       "6          maturitysize  0.044560\n",
       "11                  fee  0.044903\n",
       "5              photoamt  0.122911\n",
       "308                 age  0.140751"
      ]
     },
     "execution_count": 104,
     "metadata": {},
     "output_type": "execute_result"
    }
   ],
   "source": [
    "imp_all = pd.DataFrame(feat_importance)\n",
    "imp_all = imp_all.sort_values(by = [1], ascending = True)\n",
    "imp = imp_all.tail(15)\n",
    "imp\n",
    "\n"
   ]
  },
  {
   "cell_type": "code",
   "execution_count": 108,
   "metadata": {},
   "outputs": [
    {
     "data": {
      "text/plain": [
       "''"
      ]
     },
     "execution_count": 108,
     "metadata": {},
     "output_type": "execute_result"
    },
    {
     "data": {
      "image/png": "[encoded data removed]",
      "text/plain": [
       "<Figure size 1008x1008 with 1 Axes>"
      ]
     },
     "metadata": {},
     "output_type": "display_data"
    }
   ],
   "source": [
    "plt.figure(figsize = (14,14), facecolor = ('#3f3f3f'))\n",
    "\n",
    "plt.bar(imp[0],imp[1], \n",
    "         color = ['#597d35','#3cec97','#b2d3c2', '#3a5311', '#234f1e', '#729c69', '#98bf64','#74b62e', '#98edc3','#3bb143','#354a21','#466d1e', '#b0fc38', '#03ac13', '#028910'],\n",
    "         tick_label = ['Primary Color: Brown', 'Secondary Color: White', 'Secondary Breed: Mixed', 'Type','Gender', 'Quantity', 'Dewormed', 'Fur Length', 'Vaccinated', 'Maturity Size', 'Fee', 'Sterilized', 'Main Breed: Mixed', '# of Photos', 'Age'])\n",
    "   \n",
    "plt.xticks(rotation=45, ha='right', color = 'white', size = 18 ) \n",
    "plt.yticks(color='white', size = 18)\n",
    "plt.title(\"Feature Importance (MDI)\", size = 24, color = 'white')\n",
    "\n",
    ";"
   ]
  },
  {
   "cell_type": "markdown",
   "metadata": {},
   "source": [
    "This is the feature importantce. It show's what features have the most impact on predicting the target variable. Because this is based on the training data, it is vulnerable to overfitting and giving additional 'credit' to those overfit features. MDI is the Mean Decrease in Impurity."
   ]
  },
  {
   "cell_type": "code",
   "execution_count": 109,
   "metadata": {},
   "outputs": [],
   "source": [
    "res = permutation_importance(rf, X_test, y_test, n_repeats = 10, \n",
    "                                random_state = rdst)"
   ]
  },
  {
   "cell_type": "code",
   "execution_count": 110,
   "metadata": {},
   "outputs": [],
   "source": [
    "results = list(zip(X_test.columns, res))\n",
    "result = results.sort(reverse = True)"
   ]
  },
  {
   "cell_type": "markdown",
   "metadata": {},
   "source": [
    "For additonal interperatability we will also pull out the coefficents for the logistic regression model. "
   ]
  },
  {
   "cell_type": "code",
   "execution_count": 465,
   "metadata": {},
   "outputs": [],
   "source": [
    "coef = lr.coef_"
   ]
  },
  {
   "cell_type": "code",
   "execution_count": 466,
   "metadata": {},
   "outputs": [],
   "source": [
    "feat = X_train.columns"
   ]
  },
  {
   "cell_type": "code",
   "execution_count": 467,
   "metadata": {},
   "outputs": [],
   "source": [
    "df = pd.DataFrame(coef, columns = feat)"
   ]
  },
  {
   "cell_type": "code",
   "execution_count": 468,
   "metadata": {},
   "outputs": [
    {
     "data": {
      "text/html": [
       "<div>\n",
       "<style scoped>\n",
       "    .dataframe tbody tr th:only-of-type {\n",
       "        vertical-align: middle;\n",
       "    }\n",
       "\n",
       "    .dataframe tbody tr th {\n",
       "        vertical-align: top;\n",
       "    }\n",
       "\n",
       "    .dataframe thead th {\n",
       "        text-align: right;\n",
       "    }\n",
       "</style>\n",
       "<table border=\"1\" class=\"dataframe\">\n",
       "  <thead>\n",
       "    <tr style=\"text-align: right;\">\n",
       "      <th></th>\n",
       "      <th>0</th>\n",
       "      <th>1</th>\n",
       "      <th>2</th>\n",
       "      <th>3</th>\n",
       "      <th>4</th>\n",
       "    </tr>\n",
       "  </thead>\n",
       "  <tbody>\n",
       "    <tr>\n",
       "      <th>age</th>\n",
       "      <td>-0.012187</td>\n",
       "      <td>-0.012312</td>\n",
       "      <td>-0.001732</td>\n",
       "      <td>0.004130</td>\n",
       "      <td>0.022101</td>\n",
       "    </tr>\n",
       "    <tr>\n",
       "      <th>maturitysize</th>\n",
       "      <td>-0.177286</td>\n",
       "      <td>-0.038977</td>\n",
       "      <td>0.063804</td>\n",
       "      <td>0.103752</td>\n",
       "      <td>0.048707</td>\n",
       "    </tr>\n",
       "    <tr>\n",
       "      <th>furlength</th>\n",
       "      <td>0.228828</td>\n",
       "      <td>0.044620</td>\n",
       "      <td>-0.046513</td>\n",
       "      <td>-0.059491</td>\n",
       "      <td>-0.167444</td>\n",
       "    </tr>\n",
       "    <tr>\n",
       "      <th>vaccinated</th>\n",
       "      <td>-0.202776</td>\n",
       "      <td>0.125150</td>\n",
       "      <td>0.091700</td>\n",
       "      <td>0.121101</td>\n",
       "      <td>-0.135176</td>\n",
       "    </tr>\n",
       "    <tr>\n",
       "      <th>dewormed</th>\n",
       "      <td>0.147409</td>\n",
       "      <td>-0.093936</td>\n",
       "      <td>-0.051263</td>\n",
       "      <td>-0.173830</td>\n",
       "      <td>0.171619</td>\n",
       "    </tr>\n",
       "    <tr>\n",
       "      <th>...</th>\n",
       "      <td>...</td>\n",
       "      <td>...</td>\n",
       "      <td>...</td>\n",
       "      <td>...</td>\n",
       "      <td>...</td>\n",
       "    </tr>\n",
       "    <tr>\n",
       "      <th>color3_6</th>\n",
       "      <td>-0.172881</td>\n",
       "      <td>-0.091521</td>\n",
       "      <td>0.176104</td>\n",
       "      <td>0.166205</td>\n",
       "      <td>-0.077907</td>\n",
       "    </tr>\n",
       "    <tr>\n",
       "      <th>color3_7</th>\n",
       "      <td>0.175749</td>\n",
       "      <td>-0.132462</td>\n",
       "      <td>-0.068187</td>\n",
       "      <td>-0.018835</td>\n",
       "      <td>0.043733</td>\n",
       "    </tr>\n",
       "    <tr>\n",
       "      <th>type_2</th>\n",
       "      <td>0.187053</td>\n",
       "      <td>-0.362930</td>\n",
       "      <td>-0.065221</td>\n",
       "      <td>-0.389630</td>\n",
       "      <td>0.630728</td>\n",
       "    </tr>\n",
       "    <tr>\n",
       "      <th>gender_2</th>\n",
       "      <td>-0.018945</td>\n",
       "      <td>-0.154883</td>\n",
       "      <td>-0.056288</td>\n",
       "      <td>0.137934</td>\n",
       "      <td>0.092181</td>\n",
       "    </tr>\n",
       "    <tr>\n",
       "      <th>gender_3</th>\n",
       "      <td>-0.162565</td>\n",
       "      <td>-0.067971</td>\n",
       "      <td>0.025917</td>\n",
       "      <td>0.297264</td>\n",
       "      <td>-0.092646</td>\n",
       "    </tr>\n",
       "  </tbody>\n",
       "</table>\n",
       "<p>351 rows × 5 columns</p>\n",
       "</div>"
      ],
      "text/plain": [
       "                     0         1         2         3         4\n",
       "age          -0.012187 -0.012312 -0.001732  0.004130  0.022101\n",
       "maturitysize -0.177286 -0.038977  0.063804  0.103752  0.048707\n",
       "furlength     0.228828  0.044620 -0.046513 -0.059491 -0.167444\n",
       "vaccinated   -0.202776  0.125150  0.091700  0.121101 -0.135176\n",
       "dewormed      0.147409 -0.093936 -0.051263 -0.173830  0.171619\n",
       "...                ...       ...       ...       ...       ...\n",
       "color3_6     -0.172881 -0.091521  0.176104  0.166205 -0.077907\n",
       "color3_7      0.175749 -0.132462 -0.068187 -0.018835  0.043733\n",
       "type_2        0.187053 -0.362930 -0.065221 -0.389630  0.630728\n",
       "gender_2     -0.018945 -0.154883 -0.056288  0.137934  0.092181\n",
       "gender_3     -0.162565 -0.067971  0.025917  0.297264 -0.092646\n",
       "\n",
       "[351 rows x 5 columns]"
      ]
     },
     "execution_count": 468,
     "metadata": {},
     "output_type": "execute_result"
    }
   ],
   "source": [
    "df.T"
   ]
  },
  {
   "cell_type": "markdown",
   "metadata": {},
   "source": [
    "The data frame above shows the coeficients for each of the 5 adoption speed options. The represents the marginal change in log-odds of falling into a particular category based on each feature. To get to the actual odds we must expenintiate, as below."
   ]
  },
  {
   "cell_type": "code",
   "execution_count": 469,
   "metadata": {},
   "outputs": [],
   "source": [
    "coefs_exp = np.exp(df).T"
   ]
  },
  {
   "cell_type": "code",
   "execution_count": 472,
   "metadata": {},
   "outputs": [
    {
     "name": "stdout",
     "output_type": "stream",
     "text": [
      "Top and Bottom odds for 0:\n",
      " color1_5                   1.648547\n",
      "breed2_Golden Retriever    1.643629\n",
      "breed1_Golden Retriever    1.643629\n",
      "color1_2                   1.447864\n",
      "breed1_Persian             1.375945\n",
      "                             ...   \n",
      "color1_7                   0.636280\n",
      "color2_3                   0.597410\n",
      "breed2_Mixed Breed         0.578518\n",
      "breed1_Mixed Breed         0.578518\n",
      "color1_4                   0.576775\n",
      "Name: 0, Length: 351, dtype: float64\n",
      "\n",
      "\n",
      "Top and Bottom odds for 1:\n",
      " breed1_Pug               1.566631\n",
      "breed2_Pug               1.566631\n",
      "breed1_Cocker Spaniel    1.561308\n",
      "breed2_Cocker Spaniel    1.561308\n",
      "breed1_Maltese           1.530503\n",
      "                           ...   \n",
      "type_2                   0.695635\n",
      "breed1_Terrier           0.666103\n",
      "breed2_Terrier           0.666103\n",
      "breed1_Spitz             0.558825\n",
      "breed2_Spitz             0.558825\n",
      "Name: 1, Length: 351, dtype: float64\n",
      "\n",
      "\n",
      "Top and Bottom odds for 2:\n",
      " breed1_Tortoiseshell    1.825433\n",
      "breed2_Tortoiseshell    1.825433\n",
      "breed2_Ragdoll          1.381763\n",
      "breed1_Ragdoll          1.381763\n",
      "breed1_Spitz            1.361360\n",
      "                          ...   \n",
      "breed2_Persian          0.777717\n",
      "breed1_Persian          0.777717\n",
      "breed2_Maltese          0.750263\n",
      "breed1_Maltese          0.750263\n",
      "color3_5                0.743669\n",
      "Name: 2, Length: 351, dtype: float64\n",
      "\n",
      "\n",
      "Top and Bottom odds for 3:\n",
      " breed1_Jack Russell Terrier                  1.446378\n",
      "breed2_Jack Russell Terrier                  1.446378\n",
      "gender_3                                     1.346170\n",
      "breed2_West Highland White Terrier Westie    1.323751\n",
      "breed1_West Highland White Terrier Westie    1.323751\n",
      "                                               ...   \n",
      "breed2_Dalmatian                             0.815774\n",
      "breed1_Dalmatian                             0.815774\n",
      "breed2_Tortoiseshell                         0.774540\n",
      "breed1_Tortoiseshell                         0.774540\n",
      "type_2                                       0.677308\n",
      "Name: 3, Length: 351, dtype: float64\n",
      "\n",
      "\n",
      "Top and Bottom odds for 4:\n",
      " breed2_Mixed Breed            1.879207\n",
      "breed1_Mixed Breed            1.879207\n",
      "type_2                        1.878977\n",
      "breed1_Oriental Short Hair    1.629638\n",
      "breed2_Oriental Short Hair    1.629638\n",
      "                                ...   \n",
      "breed1_Persian                0.674779\n",
      "breed2_Persian                0.674779\n",
      "color1_5                      0.665307\n",
      "breed2_Golden Retriever       0.550879\n",
      "breed1_Golden Retriever       0.550879\n",
      "Name: 4, Length: 351, dtype: float64\n",
      "\n",
      "\n"
     ]
    }
   ],
   "source": [
    "for n in range(0,5):    \n",
    "    print(f'Top and Bottom odds for {n}:\\n', coefs_exp[n].sort_values(ascending = False))\n",
    "    print()\n",
    "    print()"
   ]
  },
  {
   "cell_type": "code",
   "execution_count": 344,
   "metadata": {},
   "outputs": [
    {
     "name": "stdout",
     "output_type": "stream",
     "text": [
      "Misclassfied:  1656\n"
     ]
    }
   ],
   "source": [
    "y_pred = lr.predict(X_test)\n",
    "count_misclassified = (y_test != y_pred).sum()\n",
    "\n",
    "print('Misclassfied: ', count_misclassified)\n"
   ]
  },
  {
   "cell_type": "markdown",
   "metadata": {},
   "source": [
    "# Conclusions and Recommendations"
   ]
  },
  {
   "cell_type": "markdown",
   "metadata": {},
   "source": [
    "Most of our models performed well in the range of 35%+ accuracy. We ultimately selected the Random Forest model as it produced the best results, which were about 11.5 percentage points above the baseline accuracy.  \n",
    "\n",
    "We are able to conclude from our work that there are key factors that affect the speed at which dogs and cats are adopted. Those factors include age, spay/neuter status, breed and the number of photos available. Being able to more accurately predict the speed at which pets are adopted will allow us to better allocate resources to get the most pets into forever homes. \n",
    "\n",
    "Other Recommendations:\n",
    "Include multiple pictures of the pet\n",
    "\n",
    "Even if the breed is unknown or mixed, it is best to take a guess and include a breed rather than ‘mixed’\n",
    "\n",
    "Spay/Neutering the pet helps in adoption, and helps keep the population down for the future\n",
    "\n",
    "Focusing on pets identified as being more difficult to home may increase their likelihood of finding a forever home. "
   ]
  },
  {
   "cell_type": "markdown",
   "metadata": {},
   "source": [
    "## Pickling"
   ]
  },
  {
   "cell_type": "code",
   "execution_count": null,
   "metadata": {},
   "outputs": [],
   "source": [
    "# pip install treeinterpreter - Use if you do not have treeinterpreter, otherwise skip\n"
   ]
  },
  {
   "cell_type": "code",
   "execution_count": null,
   "metadata": {},
   "outputs": [],
   "source": [
    "best_rf = 'finalized_rf.sav'\n",
    "pickle.dump(rf, open(best_rf, 'wb'))"
   ]
  },
  {
   "cell_type": "markdown",
   "metadata": {},
   "source": [
    "We also need the scaler, so we will pickle that below"
   ]
  },
  {
   "cell_type": "code",
   "execution_count": null,
   "metadata": {},
   "outputs": [],
   "source": [
    "sscaler = 'finalized_ss.sav'\n",
    "pickle.dump(ss, open(sscaler, 'wb'))"
   ]
  },
  {
   "cell_type": "markdown",
   "metadata": {},
   "source": [
    "## References"
   ]
  },
  {
   "cell_type": "markdown",
   "metadata": {},
   "source": [
    "References:  \n",
    "https://www.linkedin.com/pulse/kaggle-competition-multi-class-classification-image-alexandra/  \n",
    "https://www.kaggle.com/c/petfinder-adoption-prediction/data    \n",
    "https://stackoverflow.com/questions/53886370/multi-class-multi-label-confusion-matrix-with-sklearn\n",
    "https://towardsdatascience.com/interpreting-random-forest-and-other-black-box-models-like-xgboost-80f9cc4a3c38  \n",
    "https://scikit-learn.org/stable/auto_examples/inspection/plot_permutation_importance.html\n",
    "https://machinelearningmastery.com/save-load-machine-learning-models-python-scikit-learn/  \n",
    "https://stackoverflow.com/questions/44266677/machine-learning-test-set-with-fewer-features-than-the-train-set"
   ]
  },
  {
   "cell_type": "code",
   "execution_count": null,
   "metadata": {},
   "outputs": [],
   "source": []
  }
 ],
 "metadata": {
  "kernelspec": {
   "display_name": "Python [conda env:dsi] *",
   "language": "python",
   "name": "conda-env-dsi-py"
  },
  "language_info": {
   "codemirror_mode": {
    "name": "ipython",
    "version": 3
   },
   "file_extension": ".py",
   "mimetype": "text/x-python",
   "name": "python",
   "nbconvert_exporter": "python",
   "pygments_lexer": "ipython3",
   "version": "3.7.6"
  }
 },
 "nbformat": 4,
 "nbformat_minor": 4
}
